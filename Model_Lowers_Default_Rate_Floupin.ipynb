{
  "nbformat": 4,
  "nbformat_minor": 0,
  "metadata": {
    "colab": {
      "provenance": [],
      "collapsed_sections": [
        "2973340b-e39b-47d1-8597-adbc3620c4ee",
        "74ac46c2-b588-48ea-b576-95d784bbc5ef",
        "sOZJXlgJVkP2",
        "QG6yrokdVMY9",
        "oghgeRf9Nmka"
      ],
      "toc_visible": true
    },
    "kernelspec": {
      "name": "python3",
      "display_name": "Python 3"
    },
    "language_info": {
      "name": "python"
    }
  },
  "cells": [
    {
      "cell_type": "code",
      "execution_count": null,
      "metadata": {
        "id": "3d081426-f4ad-4e6a-8dd6-1061ed424ed5"
      },
      "outputs": [],
      "source": [
        "import numpy as np\n",
        "import pandas as pd\n",
        "import matplotlib.pyplot as plt\n",
        "import seaborn as sns\n",
        "from scipy import stats\n",
        "from sklearn.preprocessing import power_transform, MinMaxScaler, StandardScaler\n",
        "from imblearn import under_sampling, over_sampling\n",
        "import math\n",
        "from sklearn.tree import DecisionTreeClassifier\n",
        "from sklearn.ensemble import RandomForestClassifier\n",
        "from sklearn.model_selection import RandomizedSearchCV, GridSearchCV\n",
        "from sklearn.metrics import accuracy_score, precision_score, recall_score, f1_score, roc_auc_score, confusion_matrix, classification_report\n",
        "\n",
        "def get_file_using_PublicURL(public_url):\n",
        "  file_id_url = public_url.split('/')[-2]\n",
        "  return 'https://drive.google.com/uc?id=' + file_id_url\n",
        "data = get_file_using_PublicURL('https://drive.google.com/file/d/1S3Prb6z5hb-xKvaIVq4-MbT-HsfNo1cT/view?usp=sharing')"
      ]
    },
    {
      "cell_type": "code",
      "execution_count": null,
      "metadata": {
        "colab": {
          "base_uri": "https://localhost:8080/"
        },
        "id": "c0ad399a-b0fc-46b4-ab26-34c100bbacc3",
        "outputId": "16d6b0ca-068d-453d-fae9-e7716d26a07d"
      },
      "outputs": [
        {
          "output_type": "stream",
          "name": "stdout",
          "text": [
            "<class 'pandas.core.frame.DataFrame'>\n",
            "RangeIndex: 21000 entries, 0 to 20999\n",
            "Data columns (total 25 columns):\n",
            " #   Column                      Non-Null Count  Dtype\n",
            "---  ------                      --------------  -----\n",
            " 0   ID                          21000 non-null  int64\n",
            " 1   LIMIT_BAL                   21000 non-null  int64\n",
            " 2   SEX                         21000 non-null  int64\n",
            " 3   EDUCATION                   21000 non-null  int64\n",
            " 4   MARRIAGE                    21000 non-null  int64\n",
            " 5   AGE                         21000 non-null  int64\n",
            " 6   PAY_0                       21000 non-null  int64\n",
            " 7   PAY_2                       21000 non-null  int64\n",
            " 8   PAY_3                       21000 non-null  int64\n",
            " 9   PAY_4                       21000 non-null  int64\n",
            " 10  PAY_5                       21000 non-null  int64\n",
            " 11  PAY_6                       21000 non-null  int64\n",
            " 12  BILL_AMT1                   21000 non-null  int64\n",
            " 13  BILL_AMT2                   21000 non-null  int64\n",
            " 14  BILL_AMT3                   21000 non-null  int64\n",
            " 15  BILL_AMT4                   21000 non-null  int64\n",
            " 16  BILL_AMT5                   21000 non-null  int64\n",
            " 17  BILL_AMT6                   21000 non-null  int64\n",
            " 18  PAY_AMT1                    21000 non-null  int64\n",
            " 19  PAY_AMT2                    21000 non-null  int64\n",
            " 20  PAY_AMT3                    21000 non-null  int64\n",
            " 21  PAY_AMT4                    21000 non-null  int64\n",
            " 22  PAY_AMT5                    21000 non-null  int64\n",
            " 23  PAY_AMT6                    21000 non-null  int64\n",
            " 24  default_payment_next_month  21000 non-null  int64\n",
            "dtypes: int64(25)\n",
            "memory usage: 4.0 MB\n"
          ]
        }
      ],
      "source": [
        "df = pd.read_csv(data)\n",
        "df.info()"
      ]
    },
    {
      "cell_type": "code",
      "execution_count": null,
      "metadata": {
        "id": "ca0e144f-a220-4a74-9b62-7bfa0ec9d28e",
        "colab": {
          "base_uri": "https://localhost:8080/",
          "height": 235
        },
        "outputId": "afb35ba6-0dee-4a1a-9abb-787b914c3813"
      },
      "outputs": [
        {
          "output_type": "execute_result",
          "data": {
            "text/plain": [
              "      ID  LIMIT_BAL  SEX  EDUCATION  MARRIAGE  AGE  PAY_1  PAY_2  PAY_3  \\\n",
              "0  25150     360000    2          2         2   25     -1     -1     -1   \n",
              "1  13470     240000    2          1         2   46      2      2     -2   \n",
              "2   3092     320000    2          2         1   41      0      0      0   \n",
              "3  13973      50000    2          2         2   24     -1     -1     -2   \n",
              "4  10567      80000    1          3         1   52     -1      0      0   \n",
              "\n",
              "   PAY_4  ...  BILL_AMT4  BILL_AMT5  BILL_AMT6  PAY_AMT1  PAY_AMT2  PAY_AMT3  \\\n",
              "0     -1  ...       3435       8870       2020     12590      3479      3446   \n",
              "1     -1  ...       2240       1681       2267         0         0      2240   \n",
              "2      0  ...      35409      35036      35939      5000      2000      2000   \n",
              "3     -2  ...          0          0          0         0         0         0   \n",
              "4      0  ...      20561      21261      21457      1500      1500      1500   \n",
              "\n",
              "   PAY_AMT4  PAY_AMT5  PAY_AMT6  default_payment_next_month  \n",
              "0      8870      2020     27043                           0  \n",
              "1         0      2267      3074                           0  \n",
              "2      3000      3000      1500                           0  \n",
              "3         0         0         0                           1  \n",
              "4      1028       876      1449                           0  \n",
              "\n",
              "[5 rows x 25 columns]"
            ],
            "text/html": [
              "\n",
              "  <div id=\"df-ef6819cc-fe65-4722-b9a1-828782f5b4d8\">\n",
              "    <div class=\"colab-df-container\">\n",
              "      <div>\n",
              "<style scoped>\n",
              "    .dataframe tbody tr th:only-of-type {\n",
              "        vertical-align: middle;\n",
              "    }\n",
              "\n",
              "    .dataframe tbody tr th {\n",
              "        vertical-align: top;\n",
              "    }\n",
              "\n",
              "    .dataframe thead th {\n",
              "        text-align: right;\n",
              "    }\n",
              "</style>\n",
              "<table border=\"1\" class=\"dataframe\">\n",
              "  <thead>\n",
              "    <tr style=\"text-align: right;\">\n",
              "      <th></th>\n",
              "      <th>ID</th>\n",
              "      <th>LIMIT_BAL</th>\n",
              "      <th>SEX</th>\n",
              "      <th>EDUCATION</th>\n",
              "      <th>MARRIAGE</th>\n",
              "      <th>AGE</th>\n",
              "      <th>PAY_1</th>\n",
              "      <th>PAY_2</th>\n",
              "      <th>PAY_3</th>\n",
              "      <th>PAY_4</th>\n",
              "      <th>...</th>\n",
              "      <th>BILL_AMT4</th>\n",
              "      <th>BILL_AMT5</th>\n",
              "      <th>BILL_AMT6</th>\n",
              "      <th>PAY_AMT1</th>\n",
              "      <th>PAY_AMT2</th>\n",
              "      <th>PAY_AMT3</th>\n",
              "      <th>PAY_AMT4</th>\n",
              "      <th>PAY_AMT5</th>\n",
              "      <th>PAY_AMT6</th>\n",
              "      <th>default_payment_next_month</th>\n",
              "    </tr>\n",
              "  </thead>\n",
              "  <tbody>\n",
              "    <tr>\n",
              "      <th>0</th>\n",
              "      <td>25150</td>\n",
              "      <td>360000</td>\n",
              "      <td>2</td>\n",
              "      <td>2</td>\n",
              "      <td>2</td>\n",
              "      <td>25</td>\n",
              "      <td>-1</td>\n",
              "      <td>-1</td>\n",
              "      <td>-1</td>\n",
              "      <td>-1</td>\n",
              "      <td>...</td>\n",
              "      <td>3435</td>\n",
              "      <td>8870</td>\n",
              "      <td>2020</td>\n",
              "      <td>12590</td>\n",
              "      <td>3479</td>\n",
              "      <td>3446</td>\n",
              "      <td>8870</td>\n",
              "      <td>2020</td>\n",
              "      <td>27043</td>\n",
              "      <td>0</td>\n",
              "    </tr>\n",
              "    <tr>\n",
              "      <th>1</th>\n",
              "      <td>13470</td>\n",
              "      <td>240000</td>\n",
              "      <td>2</td>\n",
              "      <td>1</td>\n",
              "      <td>2</td>\n",
              "      <td>46</td>\n",
              "      <td>2</td>\n",
              "      <td>2</td>\n",
              "      <td>-2</td>\n",
              "      <td>-1</td>\n",
              "      <td>...</td>\n",
              "      <td>2240</td>\n",
              "      <td>1681</td>\n",
              "      <td>2267</td>\n",
              "      <td>0</td>\n",
              "      <td>0</td>\n",
              "      <td>2240</td>\n",
              "      <td>0</td>\n",
              "      <td>2267</td>\n",
              "      <td>3074</td>\n",
              "      <td>0</td>\n",
              "    </tr>\n",
              "    <tr>\n",
              "      <th>2</th>\n",
              "      <td>3092</td>\n",
              "      <td>320000</td>\n",
              "      <td>2</td>\n",
              "      <td>2</td>\n",
              "      <td>1</td>\n",
              "      <td>41</td>\n",
              "      <td>0</td>\n",
              "      <td>0</td>\n",
              "      <td>0</td>\n",
              "      <td>0</td>\n",
              "      <td>...</td>\n",
              "      <td>35409</td>\n",
              "      <td>35036</td>\n",
              "      <td>35939</td>\n",
              "      <td>5000</td>\n",
              "      <td>2000</td>\n",
              "      <td>2000</td>\n",
              "      <td>3000</td>\n",
              "      <td>3000</td>\n",
              "      <td>1500</td>\n",
              "      <td>0</td>\n",
              "    </tr>\n",
              "    <tr>\n",
              "      <th>3</th>\n",
              "      <td>13973</td>\n",
              "      <td>50000</td>\n",
              "      <td>2</td>\n",
              "      <td>2</td>\n",
              "      <td>2</td>\n",
              "      <td>24</td>\n",
              "      <td>-1</td>\n",
              "      <td>-1</td>\n",
              "      <td>-2</td>\n",
              "      <td>-2</td>\n",
              "      <td>...</td>\n",
              "      <td>0</td>\n",
              "      <td>0</td>\n",
              "      <td>0</td>\n",
              "      <td>0</td>\n",
              "      <td>0</td>\n",
              "      <td>0</td>\n",
              "      <td>0</td>\n",
              "      <td>0</td>\n",
              "      <td>0</td>\n",
              "      <td>1</td>\n",
              "    </tr>\n",
              "    <tr>\n",
              "      <th>4</th>\n",
              "      <td>10567</td>\n",
              "      <td>80000</td>\n",
              "      <td>1</td>\n",
              "      <td>3</td>\n",
              "      <td>1</td>\n",
              "      <td>52</td>\n",
              "      <td>-1</td>\n",
              "      <td>0</td>\n",
              "      <td>0</td>\n",
              "      <td>0</td>\n",
              "      <td>...</td>\n",
              "      <td>20561</td>\n",
              "      <td>21261</td>\n",
              "      <td>21457</td>\n",
              "      <td>1500</td>\n",
              "      <td>1500</td>\n",
              "      <td>1500</td>\n",
              "      <td>1028</td>\n",
              "      <td>876</td>\n",
              "      <td>1449</td>\n",
              "      <td>0</td>\n",
              "    </tr>\n",
              "  </tbody>\n",
              "</table>\n",
              "<p>5 rows × 25 columns</p>\n",
              "</div>\n",
              "      <button class=\"colab-df-convert\" onclick=\"convertToInteractive('df-ef6819cc-fe65-4722-b9a1-828782f5b4d8')\"\n",
              "              title=\"Convert this dataframe to an interactive table.\"\n",
              "              style=\"display:none;\">\n",
              "        \n",
              "  <svg xmlns=\"http://www.w3.org/2000/svg\" height=\"24px\"viewBox=\"0 0 24 24\"\n",
              "       width=\"24px\">\n",
              "    <path d=\"M0 0h24v24H0V0z\" fill=\"none\"/>\n",
              "    <path d=\"M18.56 5.44l.94 2.06.94-2.06 2.06-.94-2.06-.94-.94-2.06-.94 2.06-2.06.94zm-11 1L8.5 8.5l.94-2.06 2.06-.94-2.06-.94L8.5 2.5l-.94 2.06-2.06.94zm10 10l.94 2.06.94-2.06 2.06-.94-2.06-.94-.94-2.06-.94 2.06-2.06.94z\"/><path d=\"M17.41 7.96l-1.37-1.37c-.4-.4-.92-.59-1.43-.59-.52 0-1.04.2-1.43.59L10.3 9.45l-7.72 7.72c-.78.78-.78 2.05 0 2.83L4 21.41c.39.39.9.59 1.41.59.51 0 1.02-.2 1.41-.59l7.78-7.78 2.81-2.81c.8-.78.8-2.07 0-2.86zM5.41 20L4 18.59l7.72-7.72 1.47 1.35L5.41 20z\"/>\n",
              "  </svg>\n",
              "      </button>\n",
              "      \n",
              "  <style>\n",
              "    .colab-df-container {\n",
              "      display:flex;\n",
              "      flex-wrap:wrap;\n",
              "      gap: 12px;\n",
              "    }\n",
              "\n",
              "    .colab-df-convert {\n",
              "      background-color: #E8F0FE;\n",
              "      border: none;\n",
              "      border-radius: 50%;\n",
              "      cursor: pointer;\n",
              "      display: none;\n",
              "      fill: #1967D2;\n",
              "      height: 32px;\n",
              "      padding: 0 0 0 0;\n",
              "      width: 32px;\n",
              "    }\n",
              "\n",
              "    .colab-df-convert:hover {\n",
              "      background-color: #E2EBFA;\n",
              "      box-shadow: 0px 1px 2px rgba(60, 64, 67, 0.3), 0px 1px 3px 1px rgba(60, 64, 67, 0.15);\n",
              "      fill: #174EA6;\n",
              "    }\n",
              "\n",
              "    [theme=dark] .colab-df-convert {\n",
              "      background-color: #3B4455;\n",
              "      fill: #D2E3FC;\n",
              "    }\n",
              "\n",
              "    [theme=dark] .colab-df-convert:hover {\n",
              "      background-color: #434B5C;\n",
              "      box-shadow: 0px 1px 3px 1px rgba(0, 0, 0, 0.15);\n",
              "      filter: drop-shadow(0px 1px 2px rgba(0, 0, 0, 0.3));\n",
              "      fill: #FFFFFF;\n",
              "    }\n",
              "  </style>\n",
              "\n",
              "      <script>\n",
              "        const buttonEl =\n",
              "          document.querySelector('#df-ef6819cc-fe65-4722-b9a1-828782f5b4d8 button.colab-df-convert');\n",
              "        buttonEl.style.display =\n",
              "          google.colab.kernel.accessAllowed ? 'block' : 'none';\n",
              "\n",
              "        async function convertToInteractive(key) {\n",
              "          const element = document.querySelector('#df-ef6819cc-fe65-4722-b9a1-828782f5b4d8');\n",
              "          const dataTable =\n",
              "            await google.colab.kernel.invokeFunction('convertToInteractive',\n",
              "                                                     [key], {});\n",
              "          if (!dataTable) return;\n",
              "\n",
              "          const docLinkHtml = 'Like what you see? Visit the ' +\n",
              "            '<a target=\"_blank\" href=https://colab.research.google.com/notebooks/data_table.ipynb>data table notebook</a>'\n",
              "            + ' to learn more about interactive tables.';\n",
              "          element.innerHTML = '';\n",
              "          dataTable['output_type'] = 'display_data';\n",
              "          await google.colab.output.renderOutput(dataTable, element);\n",
              "          const docLink = document.createElement('div');\n",
              "          docLink.innerHTML = docLinkHtml;\n",
              "          element.appendChild(docLink);\n",
              "        }\n",
              "      </script>\n",
              "    </div>\n",
              "  </div>\n",
              "  "
            ]
          },
          "metadata": {},
          "execution_count": 3
        }
      ],
      "source": [
        "df = df.rename(columns={'PAY_0':'PAY_1'})\n",
        "df.head()"
      ]
    },
    {
      "cell_type": "markdown",
      "metadata": {
        "id": "e111f769-f643-4e81-872a-9c4c465cd08f"
      },
      "source": [
        "# **Data Cleansing**"
      ]
    },
    {
      "cell_type": "markdown",
      "metadata": {
        "id": "2973340b-e39b-47d1-8597-adbc3620c4ee"
      },
      "source": [
        "### **Handling Missing Data**"
      ]
    },
    {
      "cell_type": "code",
      "execution_count": null,
      "metadata": {
        "colab": {
          "base_uri": "https://localhost:8080/"
        },
        "id": "2452392a-f0d8-4217-a371-0b63b9ffcd18",
        "outputId": "993c8910-8f55-4f85-d8e4-c76854c22e92"
      },
      "outputs": [
        {
          "output_type": "execute_result",
          "data": {
            "text/plain": [
              "ID                            0\n",
              "LIMIT_BAL                     0\n",
              "SEX                           0\n",
              "EDUCATION                     0\n",
              "MARRIAGE                      0\n",
              "AGE                           0\n",
              "PAY_1                         0\n",
              "PAY_2                         0\n",
              "PAY_3                         0\n",
              "PAY_4                         0\n",
              "PAY_5                         0\n",
              "PAY_6                         0\n",
              "BILL_AMT1                     0\n",
              "BILL_AMT2                     0\n",
              "BILL_AMT3                     0\n",
              "BILL_AMT4                     0\n",
              "BILL_AMT5                     0\n",
              "BILL_AMT6                     0\n",
              "PAY_AMT1                      0\n",
              "PAY_AMT2                      0\n",
              "PAY_AMT3                      0\n",
              "PAY_AMT4                      0\n",
              "PAY_AMT5                      0\n",
              "PAY_AMT6                      0\n",
              "default_payment_next_month    0\n",
              "dtype: int64"
            ]
          },
          "metadata": {},
          "execution_count": 4
        }
      ],
      "source": [
        "df.isna().sum()"
      ]
    },
    {
      "cell_type": "markdown",
      "metadata": {
        "id": "cf3c3159-a08e-4cb3-b7d9-033ebd2c933d"
      },
      "source": [
        "Data tidak memiliki missing value"
      ]
    },
    {
      "cell_type": "markdown",
      "metadata": {
        "id": "74ac46c2-b588-48ea-b576-95d784bbc5ef"
      },
      "source": [
        "### **Handling Duplicated Data**"
      ]
    },
    {
      "cell_type": "code",
      "execution_count": null,
      "metadata": {
        "colab": {
          "base_uri": "https://localhost:8080/"
        },
        "id": "3f3c93cf-91a8-4c21-8c7d-828280dafaba",
        "outputId": "a039de69-abaf-4086-a4eb-91d230b224cf"
      },
      "outputs": [
        {
          "output_type": "execute_result",
          "data": {
            "text/plain": [
              "0"
            ]
          },
          "metadata": {},
          "execution_count": 5
        }
      ],
      "source": [
        "df.duplicated().sum()"
      ]
    },
    {
      "cell_type": "code",
      "execution_count": null,
      "metadata": {
        "colab": {
          "base_uri": "https://localhost:8080/"
        },
        "id": "6fb67ea0-4ccc-40f5-8cdf-4392c47076ae",
        "outputId": "6b25a245-44e6-4717-c163-db6f9b1cc380"
      },
      "outputs": [
        {
          "output_type": "execute_result",
          "data": {
            "text/plain": [
              "0"
            ]
          },
          "metadata": {},
          "execution_count": 6
        }
      ],
      "source": [
        "df.duplicated(subset = 'ID').sum()"
      ]
    },
    {
      "cell_type": "markdown",
      "metadata": {
        "id": "755ac1a4-6f75-4e76-a036-deb540c5697a"
      },
      "source": [
        "Data tidak ada yang duplicate"
      ]
    },
    {
      "cell_type": "code",
      "execution_count": null,
      "metadata": {
        "id": "788e6f61-365d-4fa1-a714-62ee2c51766c",
        "colab": {
          "base_uri": "https://localhost:8080/"
        },
        "outputId": "fc19aa71-e71d-4c7f-aee2-bd9898ce8a2a"
      },
      "outputs": [
        {
          "output_type": "execute_result",
          "data": {
            "text/plain": [
              "      SEX EDUCATION MARRIAGE PAY_1 PAY_2 PAY_3 PAY_4 PAY_5 PAY_6  \\\n",
              "0       2         2        2    -1    -1    -1    -1    -1    -1   \n",
              "1       2         1        2     2     2    -2    -1     0    -1   \n",
              "2       2         2        1     0     0     0     0     0     0   \n",
              "3       2         2        2    -1    -1    -2    -2    -2    -2   \n",
              "4       1         3        1    -1     0     0     0     0     0   \n",
              "...    ..       ...      ...   ...   ...   ...   ...   ...   ...   \n",
              "20995   2         2        2     1    -2    -2    -2    -2    -2   \n",
              "20996   2         2        1     0     0     0     0     0     0   \n",
              "20997   1         1        1     1     2     2     2     0     0   \n",
              "20998   2         2        1     0     0     0     0     0     0   \n",
              "20999   1         3        1     1    -2    -2    -2    -2    -2   \n",
              "\n",
              "      default_payment_next_month  \n",
              "0                              0  \n",
              "1                              0  \n",
              "2                              0  \n",
              "3                              1  \n",
              "4                              0  \n",
              "...                          ...  \n",
              "20995                          0  \n",
              "20996                          0  \n",
              "20997                          1  \n",
              "20998                          0  \n",
              "20999                          1  \n",
              "\n",
              "[21000 rows x 10 columns]"
            ],
            "text/html": [
              "\n",
              "  <div id=\"df-b71c4608-289d-4cd4-a268-e29fbad93f14\">\n",
              "    <div class=\"colab-df-container\">\n",
              "      <div>\n",
              "<style scoped>\n",
              "    .dataframe tbody tr th:only-of-type {\n",
              "        vertical-align: middle;\n",
              "    }\n",
              "\n",
              "    .dataframe tbody tr th {\n",
              "        vertical-align: top;\n",
              "    }\n",
              "\n",
              "    .dataframe thead th {\n",
              "        text-align: right;\n",
              "    }\n",
              "</style>\n",
              "<table border=\"1\" class=\"dataframe\">\n",
              "  <thead>\n",
              "    <tr style=\"text-align: right;\">\n",
              "      <th></th>\n",
              "      <th>SEX</th>\n",
              "      <th>EDUCATION</th>\n",
              "      <th>MARRIAGE</th>\n",
              "      <th>PAY_1</th>\n",
              "      <th>PAY_2</th>\n",
              "      <th>PAY_3</th>\n",
              "      <th>PAY_4</th>\n",
              "      <th>PAY_5</th>\n",
              "      <th>PAY_6</th>\n",
              "      <th>default_payment_next_month</th>\n",
              "    </tr>\n",
              "  </thead>\n",
              "  <tbody>\n",
              "    <tr>\n",
              "      <th>0</th>\n",
              "      <td>2</td>\n",
              "      <td>2</td>\n",
              "      <td>2</td>\n",
              "      <td>-1</td>\n",
              "      <td>-1</td>\n",
              "      <td>-1</td>\n",
              "      <td>-1</td>\n",
              "      <td>-1</td>\n",
              "      <td>-1</td>\n",
              "      <td>0</td>\n",
              "    </tr>\n",
              "    <tr>\n",
              "      <th>1</th>\n",
              "      <td>2</td>\n",
              "      <td>1</td>\n",
              "      <td>2</td>\n",
              "      <td>2</td>\n",
              "      <td>2</td>\n",
              "      <td>-2</td>\n",
              "      <td>-1</td>\n",
              "      <td>0</td>\n",
              "      <td>-1</td>\n",
              "      <td>0</td>\n",
              "    </tr>\n",
              "    <tr>\n",
              "      <th>2</th>\n",
              "      <td>2</td>\n",
              "      <td>2</td>\n",
              "      <td>1</td>\n",
              "      <td>0</td>\n",
              "      <td>0</td>\n",
              "      <td>0</td>\n",
              "      <td>0</td>\n",
              "      <td>0</td>\n",
              "      <td>0</td>\n",
              "      <td>0</td>\n",
              "    </tr>\n",
              "    <tr>\n",
              "      <th>3</th>\n",
              "      <td>2</td>\n",
              "      <td>2</td>\n",
              "      <td>2</td>\n",
              "      <td>-1</td>\n",
              "      <td>-1</td>\n",
              "      <td>-2</td>\n",
              "      <td>-2</td>\n",
              "      <td>-2</td>\n",
              "      <td>-2</td>\n",
              "      <td>1</td>\n",
              "    </tr>\n",
              "    <tr>\n",
              "      <th>4</th>\n",
              "      <td>1</td>\n",
              "      <td>3</td>\n",
              "      <td>1</td>\n",
              "      <td>-1</td>\n",
              "      <td>0</td>\n",
              "      <td>0</td>\n",
              "      <td>0</td>\n",
              "      <td>0</td>\n",
              "      <td>0</td>\n",
              "      <td>0</td>\n",
              "    </tr>\n",
              "    <tr>\n",
              "      <th>...</th>\n",
              "      <td>...</td>\n",
              "      <td>...</td>\n",
              "      <td>...</td>\n",
              "      <td>...</td>\n",
              "      <td>...</td>\n",
              "      <td>...</td>\n",
              "      <td>...</td>\n",
              "      <td>...</td>\n",
              "      <td>...</td>\n",
              "      <td>...</td>\n",
              "    </tr>\n",
              "    <tr>\n",
              "      <th>20995</th>\n",
              "      <td>2</td>\n",
              "      <td>2</td>\n",
              "      <td>2</td>\n",
              "      <td>1</td>\n",
              "      <td>-2</td>\n",
              "      <td>-2</td>\n",
              "      <td>-2</td>\n",
              "      <td>-2</td>\n",
              "      <td>-2</td>\n",
              "      <td>0</td>\n",
              "    </tr>\n",
              "    <tr>\n",
              "      <th>20996</th>\n",
              "      <td>2</td>\n",
              "      <td>2</td>\n",
              "      <td>1</td>\n",
              "      <td>0</td>\n",
              "      <td>0</td>\n",
              "      <td>0</td>\n",
              "      <td>0</td>\n",
              "      <td>0</td>\n",
              "      <td>0</td>\n",
              "      <td>0</td>\n",
              "    </tr>\n",
              "    <tr>\n",
              "      <th>20997</th>\n",
              "      <td>1</td>\n",
              "      <td>1</td>\n",
              "      <td>1</td>\n",
              "      <td>1</td>\n",
              "      <td>2</td>\n",
              "      <td>2</td>\n",
              "      <td>2</td>\n",
              "      <td>0</td>\n",
              "      <td>0</td>\n",
              "      <td>1</td>\n",
              "    </tr>\n",
              "    <tr>\n",
              "      <th>20998</th>\n",
              "      <td>2</td>\n",
              "      <td>2</td>\n",
              "      <td>1</td>\n",
              "      <td>0</td>\n",
              "      <td>0</td>\n",
              "      <td>0</td>\n",
              "      <td>0</td>\n",
              "      <td>0</td>\n",
              "      <td>0</td>\n",
              "      <td>0</td>\n",
              "    </tr>\n",
              "    <tr>\n",
              "      <th>20999</th>\n",
              "      <td>1</td>\n",
              "      <td>3</td>\n",
              "      <td>1</td>\n",
              "      <td>1</td>\n",
              "      <td>-2</td>\n",
              "      <td>-2</td>\n",
              "      <td>-2</td>\n",
              "      <td>-2</td>\n",
              "      <td>-2</td>\n",
              "      <td>1</td>\n",
              "    </tr>\n",
              "  </tbody>\n",
              "</table>\n",
              "<p>21000 rows × 10 columns</p>\n",
              "</div>\n",
              "      <button class=\"colab-df-convert\" onclick=\"convertToInteractive('df-b71c4608-289d-4cd4-a268-e29fbad93f14')\"\n",
              "              title=\"Convert this dataframe to an interactive table.\"\n",
              "              style=\"display:none;\">\n",
              "        \n",
              "  <svg xmlns=\"http://www.w3.org/2000/svg\" height=\"24px\"viewBox=\"0 0 24 24\"\n",
              "       width=\"24px\">\n",
              "    <path d=\"M0 0h24v24H0V0z\" fill=\"none\"/>\n",
              "    <path d=\"M18.56 5.44l.94 2.06.94-2.06 2.06-.94-2.06-.94-.94-2.06-.94 2.06-2.06.94zm-11 1L8.5 8.5l.94-2.06 2.06-.94-2.06-.94L8.5 2.5l-.94 2.06-2.06.94zm10 10l.94 2.06.94-2.06 2.06-.94-2.06-.94-.94-2.06-.94 2.06-2.06.94z\"/><path d=\"M17.41 7.96l-1.37-1.37c-.4-.4-.92-.59-1.43-.59-.52 0-1.04.2-1.43.59L10.3 9.45l-7.72 7.72c-.78.78-.78 2.05 0 2.83L4 21.41c.39.39.9.59 1.41.59.51 0 1.02-.2 1.41-.59l7.78-7.78 2.81-2.81c.8-.78.8-2.07 0-2.86zM5.41 20L4 18.59l7.72-7.72 1.47 1.35L5.41 20z\"/>\n",
              "  </svg>\n",
              "      </button>\n",
              "      \n",
              "  <style>\n",
              "    .colab-df-container {\n",
              "      display:flex;\n",
              "      flex-wrap:wrap;\n",
              "      gap: 12px;\n",
              "    }\n",
              "\n",
              "    .colab-df-convert {\n",
              "      background-color: #E8F0FE;\n",
              "      border: none;\n",
              "      border-radius: 50%;\n",
              "      cursor: pointer;\n",
              "      display: none;\n",
              "      fill: #1967D2;\n",
              "      height: 32px;\n",
              "      padding: 0 0 0 0;\n",
              "      width: 32px;\n",
              "    }\n",
              "\n",
              "    .colab-df-convert:hover {\n",
              "      background-color: #E2EBFA;\n",
              "      box-shadow: 0px 1px 2px rgba(60, 64, 67, 0.3), 0px 1px 3px 1px rgba(60, 64, 67, 0.15);\n",
              "      fill: #174EA6;\n",
              "    }\n",
              "\n",
              "    [theme=dark] .colab-df-convert {\n",
              "      background-color: #3B4455;\n",
              "      fill: #D2E3FC;\n",
              "    }\n",
              "\n",
              "    [theme=dark] .colab-df-convert:hover {\n",
              "      background-color: #434B5C;\n",
              "      box-shadow: 0px 1px 3px 1px rgba(0, 0, 0, 0.15);\n",
              "      filter: drop-shadow(0px 1px 2px rgba(0, 0, 0, 0.3));\n",
              "      fill: #FFFFFF;\n",
              "    }\n",
              "  </style>\n",
              "\n",
              "      <script>\n",
              "        const buttonEl =\n",
              "          document.querySelector('#df-b71c4608-289d-4cd4-a268-e29fbad93f14 button.colab-df-convert');\n",
              "        buttonEl.style.display =\n",
              "          google.colab.kernel.accessAllowed ? 'block' : 'none';\n",
              "\n",
              "        async function convertToInteractive(key) {\n",
              "          const element = document.querySelector('#df-b71c4608-289d-4cd4-a268-e29fbad93f14');\n",
              "          const dataTable =\n",
              "            await google.colab.kernel.invokeFunction('convertToInteractive',\n",
              "                                                     [key], {});\n",
              "          if (!dataTable) return;\n",
              "\n",
              "          const docLinkHtml = 'Like what you see? Visit the ' +\n",
              "            '<a target=\"_blank\" href=https://colab.research.google.com/notebooks/data_table.ipynb>data table notebook</a>'\n",
              "            + ' to learn more about interactive tables.';\n",
              "          element.innerHTML = '';\n",
              "          dataTable['output_type'] = 'display_data';\n",
              "          await google.colab.output.renderOutput(dataTable, element);\n",
              "          const docLink = document.createElement('div');\n",
              "          docLink.innerHTML = docLinkHtml;\n",
              "          element.appendChild(docLink);\n",
              "        }\n",
              "      </script>\n",
              "    </div>\n",
              "  </div>\n",
              "  "
            ]
          },
          "metadata": {},
          "execution_count": 7
        }
      ],
      "source": [
        "# pengelompokan kolom berdasarkan jenisnya\n",
        "nums = ['LIMIT_BAL', 'AGE', 'BILL_AMT1', 'BILL_AMT2', 'BILL_AMT3', 'BILL_AMT4', 'BILL_AMT5', 'BILL_AMT6','PAY_AMT1', 'PAY_AMT2', 'PAY_AMT3', 'PAY_AMT4', 'PAY_AMT5', 'PAY_AMT6']\n",
        "cats = ['SEX', 'EDUCATION', 'MARRIAGE', 'PAY_1','PAY_2','PAY_3','PAY_4','PAY_5','PAY_6', 'default_payment_next_month']\n",
        "df[cats].astype(str)"
      ]
    },
    {
      "cell_type": "code",
      "execution_count": null,
      "metadata": {
        "colab": {
          "base_uri": "https://localhost:8080/"
        },
        "id": "b45d67f2-5740-4023-a94c-965943315e8a",
        "outputId": "ac1716c1-1b87-438e-9de3-e7e8f48b35a4"
      },
      "outputs": [
        {
          "output_type": "execute_result",
          "data": {
            "text/plain": [
              "                 ID      LIMIT_BAL           SEX     EDUCATION      MARRIAGE  \\\n",
              "count  21000.000000   21000.000000  21000.000000  21000.000000  21000.000000   \n",
              "mean   14949.183667  167214.746667      1.607571      1.854190      1.551714   \n",
              "std     8632.775153  128965.188482      0.488303      0.791628      0.521176   \n",
              "min        1.000000   10000.000000      1.000000      0.000000      0.000000   \n",
              "25%     7508.750000   50000.000000      1.000000      1.000000      1.000000   \n",
              "50%    14939.500000  140000.000000      2.000000      2.000000      2.000000   \n",
              "75%    22386.750000  240000.000000      2.000000      2.000000      2.000000   \n",
              "max    29998.000000  800000.000000      2.000000      6.000000      3.000000   \n",
              "\n",
              "                AGE        PAY_1         PAY_2         PAY_3        PAY_4  \\\n",
              "count  21000.000000  21000.00000  21000.000000  21000.000000  21000.00000   \n",
              "mean      35.461619     -0.01119     -0.127238     -0.164857     -0.21819   \n",
              "std        9.206628      1.12321      1.198957      1.198624      1.17221   \n",
              "min       21.000000     -2.00000     -2.000000     -2.000000     -2.00000   \n",
              "25%       28.000000     -1.00000     -1.000000     -1.000000     -1.00000   \n",
              "50%       34.000000      0.00000      0.000000      0.000000      0.00000   \n",
              "75%       41.000000      0.00000      0.000000      0.000000      0.00000   \n",
              "max       75.000000      8.00000      8.000000      8.000000      8.00000   \n",
              "\n",
              "       ...      BILL_AMT4      BILL_AMT5      BILL_AMT6       PAY_AMT1  \\\n",
              "count  ...   21000.000000   21000.000000   21000.000000   21000.000000   \n",
              "mean   ...   43387.372476   40398.551095   38931.194000    5686.349333   \n",
              "std    ...   64081.073110   60396.811177   59196.499234   16868.075695   \n",
              "min    ... -170000.000000  -81334.000000 -209051.000000       0.000000   \n",
              "25%    ...    2332.000000    1759.000000    1242.750000     998.250000   \n",
              "50%    ...   19158.500000   18266.500000   17203.500000    2100.000000   \n",
              "75%    ...   55376.750000   50517.250000   49463.000000    5023.250000   \n",
              "max    ...  706864.000000  587067.000000  699944.000000  873552.000000   \n",
              "\n",
              "           PAY_AMT2       PAY_AMT3       PAY_AMT4       PAY_AMT5  \\\n",
              "count  2.100000e+04   21000.000000   21000.000000   21000.000000   \n",
              "mean   5.923003e+03    5202.325333    4793.172000    4797.012952   \n",
              "std    2.390953e+04   17006.416467   15467.403159   15270.031988   \n",
              "min    0.000000e+00       0.000000       0.000000       0.000000   \n",
              "25%    8.360000e+02     390.000000     284.000000     241.000000   \n",
              "50%    2.011000e+03    1811.500000    1500.000000    1500.000000   \n",
              "75%    5.000000e+03    4500.000000    4002.250000    4051.000000   \n",
              "max    1.684259e+06  889043.000000  621000.000000  417990.000000   \n",
              "\n",
              "            PAY_AMT6  default_payment_next_month  \n",
              "count   21000.000000                21000.000000  \n",
              "mean     5211.736762                    0.221190  \n",
              "std     17698.795697                    0.415058  \n",
              "min         0.000000                    0.000000  \n",
              "25%       102.000000                    0.000000  \n",
              "50%      1500.000000                    0.000000  \n",
              "75%      4000.000000                    0.000000  \n",
              "max    528666.000000                    1.000000  \n",
              "\n",
              "[8 rows x 25 columns]"
            ],
            "text/html": [
              "\n",
              "  <div id=\"df-5c22f42e-db3f-4b76-8017-1e4622ff6a28\">\n",
              "    <div class=\"colab-df-container\">\n",
              "      <div>\n",
              "<style scoped>\n",
              "    .dataframe tbody tr th:only-of-type {\n",
              "        vertical-align: middle;\n",
              "    }\n",
              "\n",
              "    .dataframe tbody tr th {\n",
              "        vertical-align: top;\n",
              "    }\n",
              "\n",
              "    .dataframe thead th {\n",
              "        text-align: right;\n",
              "    }\n",
              "</style>\n",
              "<table border=\"1\" class=\"dataframe\">\n",
              "  <thead>\n",
              "    <tr style=\"text-align: right;\">\n",
              "      <th></th>\n",
              "      <th>ID</th>\n",
              "      <th>LIMIT_BAL</th>\n",
              "      <th>SEX</th>\n",
              "      <th>EDUCATION</th>\n",
              "      <th>MARRIAGE</th>\n",
              "      <th>AGE</th>\n",
              "      <th>PAY_1</th>\n",
              "      <th>PAY_2</th>\n",
              "      <th>PAY_3</th>\n",
              "      <th>PAY_4</th>\n",
              "      <th>...</th>\n",
              "      <th>BILL_AMT4</th>\n",
              "      <th>BILL_AMT5</th>\n",
              "      <th>BILL_AMT6</th>\n",
              "      <th>PAY_AMT1</th>\n",
              "      <th>PAY_AMT2</th>\n",
              "      <th>PAY_AMT3</th>\n",
              "      <th>PAY_AMT4</th>\n",
              "      <th>PAY_AMT5</th>\n",
              "      <th>PAY_AMT6</th>\n",
              "      <th>default_payment_next_month</th>\n",
              "    </tr>\n",
              "  </thead>\n",
              "  <tbody>\n",
              "    <tr>\n",
              "      <th>count</th>\n",
              "      <td>21000.000000</td>\n",
              "      <td>21000.000000</td>\n",
              "      <td>21000.000000</td>\n",
              "      <td>21000.000000</td>\n",
              "      <td>21000.000000</td>\n",
              "      <td>21000.000000</td>\n",
              "      <td>21000.00000</td>\n",
              "      <td>21000.000000</td>\n",
              "      <td>21000.000000</td>\n",
              "      <td>21000.00000</td>\n",
              "      <td>...</td>\n",
              "      <td>21000.000000</td>\n",
              "      <td>21000.000000</td>\n",
              "      <td>21000.000000</td>\n",
              "      <td>21000.000000</td>\n",
              "      <td>2.100000e+04</td>\n",
              "      <td>21000.000000</td>\n",
              "      <td>21000.000000</td>\n",
              "      <td>21000.000000</td>\n",
              "      <td>21000.000000</td>\n",
              "      <td>21000.000000</td>\n",
              "    </tr>\n",
              "    <tr>\n",
              "      <th>mean</th>\n",
              "      <td>14949.183667</td>\n",
              "      <td>167214.746667</td>\n",
              "      <td>1.607571</td>\n",
              "      <td>1.854190</td>\n",
              "      <td>1.551714</td>\n",
              "      <td>35.461619</td>\n",
              "      <td>-0.01119</td>\n",
              "      <td>-0.127238</td>\n",
              "      <td>-0.164857</td>\n",
              "      <td>-0.21819</td>\n",
              "      <td>...</td>\n",
              "      <td>43387.372476</td>\n",
              "      <td>40398.551095</td>\n",
              "      <td>38931.194000</td>\n",
              "      <td>5686.349333</td>\n",
              "      <td>5.923003e+03</td>\n",
              "      <td>5202.325333</td>\n",
              "      <td>4793.172000</td>\n",
              "      <td>4797.012952</td>\n",
              "      <td>5211.736762</td>\n",
              "      <td>0.221190</td>\n",
              "    </tr>\n",
              "    <tr>\n",
              "      <th>std</th>\n",
              "      <td>8632.775153</td>\n",
              "      <td>128965.188482</td>\n",
              "      <td>0.488303</td>\n",
              "      <td>0.791628</td>\n",
              "      <td>0.521176</td>\n",
              "      <td>9.206628</td>\n",
              "      <td>1.12321</td>\n",
              "      <td>1.198957</td>\n",
              "      <td>1.198624</td>\n",
              "      <td>1.17221</td>\n",
              "      <td>...</td>\n",
              "      <td>64081.073110</td>\n",
              "      <td>60396.811177</td>\n",
              "      <td>59196.499234</td>\n",
              "      <td>16868.075695</td>\n",
              "      <td>2.390953e+04</td>\n",
              "      <td>17006.416467</td>\n",
              "      <td>15467.403159</td>\n",
              "      <td>15270.031988</td>\n",
              "      <td>17698.795697</td>\n",
              "      <td>0.415058</td>\n",
              "    </tr>\n",
              "    <tr>\n",
              "      <th>min</th>\n",
              "      <td>1.000000</td>\n",
              "      <td>10000.000000</td>\n",
              "      <td>1.000000</td>\n",
              "      <td>0.000000</td>\n",
              "      <td>0.000000</td>\n",
              "      <td>21.000000</td>\n",
              "      <td>-2.00000</td>\n",
              "      <td>-2.000000</td>\n",
              "      <td>-2.000000</td>\n",
              "      <td>-2.00000</td>\n",
              "      <td>...</td>\n",
              "      <td>-170000.000000</td>\n",
              "      <td>-81334.000000</td>\n",
              "      <td>-209051.000000</td>\n",
              "      <td>0.000000</td>\n",
              "      <td>0.000000e+00</td>\n",
              "      <td>0.000000</td>\n",
              "      <td>0.000000</td>\n",
              "      <td>0.000000</td>\n",
              "      <td>0.000000</td>\n",
              "      <td>0.000000</td>\n",
              "    </tr>\n",
              "    <tr>\n",
              "      <th>25%</th>\n",
              "      <td>7508.750000</td>\n",
              "      <td>50000.000000</td>\n",
              "      <td>1.000000</td>\n",
              "      <td>1.000000</td>\n",
              "      <td>1.000000</td>\n",
              "      <td>28.000000</td>\n",
              "      <td>-1.00000</td>\n",
              "      <td>-1.000000</td>\n",
              "      <td>-1.000000</td>\n",
              "      <td>-1.00000</td>\n",
              "      <td>...</td>\n",
              "      <td>2332.000000</td>\n",
              "      <td>1759.000000</td>\n",
              "      <td>1242.750000</td>\n",
              "      <td>998.250000</td>\n",
              "      <td>8.360000e+02</td>\n",
              "      <td>390.000000</td>\n",
              "      <td>284.000000</td>\n",
              "      <td>241.000000</td>\n",
              "      <td>102.000000</td>\n",
              "      <td>0.000000</td>\n",
              "    </tr>\n",
              "    <tr>\n",
              "      <th>50%</th>\n",
              "      <td>14939.500000</td>\n",
              "      <td>140000.000000</td>\n",
              "      <td>2.000000</td>\n",
              "      <td>2.000000</td>\n",
              "      <td>2.000000</td>\n",
              "      <td>34.000000</td>\n",
              "      <td>0.00000</td>\n",
              "      <td>0.000000</td>\n",
              "      <td>0.000000</td>\n",
              "      <td>0.00000</td>\n",
              "      <td>...</td>\n",
              "      <td>19158.500000</td>\n",
              "      <td>18266.500000</td>\n",
              "      <td>17203.500000</td>\n",
              "      <td>2100.000000</td>\n",
              "      <td>2.011000e+03</td>\n",
              "      <td>1811.500000</td>\n",
              "      <td>1500.000000</td>\n",
              "      <td>1500.000000</td>\n",
              "      <td>1500.000000</td>\n",
              "      <td>0.000000</td>\n",
              "    </tr>\n",
              "    <tr>\n",
              "      <th>75%</th>\n",
              "      <td>22386.750000</td>\n",
              "      <td>240000.000000</td>\n",
              "      <td>2.000000</td>\n",
              "      <td>2.000000</td>\n",
              "      <td>2.000000</td>\n",
              "      <td>41.000000</td>\n",
              "      <td>0.00000</td>\n",
              "      <td>0.000000</td>\n",
              "      <td>0.000000</td>\n",
              "      <td>0.00000</td>\n",
              "      <td>...</td>\n",
              "      <td>55376.750000</td>\n",
              "      <td>50517.250000</td>\n",
              "      <td>49463.000000</td>\n",
              "      <td>5023.250000</td>\n",
              "      <td>5.000000e+03</td>\n",
              "      <td>4500.000000</td>\n",
              "      <td>4002.250000</td>\n",
              "      <td>4051.000000</td>\n",
              "      <td>4000.000000</td>\n",
              "      <td>0.000000</td>\n",
              "    </tr>\n",
              "    <tr>\n",
              "      <th>max</th>\n",
              "      <td>29998.000000</td>\n",
              "      <td>800000.000000</td>\n",
              "      <td>2.000000</td>\n",
              "      <td>6.000000</td>\n",
              "      <td>3.000000</td>\n",
              "      <td>75.000000</td>\n",
              "      <td>8.00000</td>\n",
              "      <td>8.000000</td>\n",
              "      <td>8.000000</td>\n",
              "      <td>8.00000</td>\n",
              "      <td>...</td>\n",
              "      <td>706864.000000</td>\n",
              "      <td>587067.000000</td>\n",
              "      <td>699944.000000</td>\n",
              "      <td>873552.000000</td>\n",
              "      <td>1.684259e+06</td>\n",
              "      <td>889043.000000</td>\n",
              "      <td>621000.000000</td>\n",
              "      <td>417990.000000</td>\n",
              "      <td>528666.000000</td>\n",
              "      <td>1.000000</td>\n",
              "    </tr>\n",
              "  </tbody>\n",
              "</table>\n",
              "<p>8 rows × 25 columns</p>\n",
              "</div>\n",
              "      <button class=\"colab-df-convert\" onclick=\"convertToInteractive('df-5c22f42e-db3f-4b76-8017-1e4622ff6a28')\"\n",
              "              title=\"Convert this dataframe to an interactive table.\"\n",
              "              style=\"display:none;\">\n",
              "        \n",
              "  <svg xmlns=\"http://www.w3.org/2000/svg\" height=\"24px\"viewBox=\"0 0 24 24\"\n",
              "       width=\"24px\">\n",
              "    <path d=\"M0 0h24v24H0V0z\" fill=\"none\"/>\n",
              "    <path d=\"M18.56 5.44l.94 2.06.94-2.06 2.06-.94-2.06-.94-.94-2.06-.94 2.06-2.06.94zm-11 1L8.5 8.5l.94-2.06 2.06-.94-2.06-.94L8.5 2.5l-.94 2.06-2.06.94zm10 10l.94 2.06.94-2.06 2.06-.94-2.06-.94-.94-2.06-.94 2.06-2.06.94z\"/><path d=\"M17.41 7.96l-1.37-1.37c-.4-.4-.92-.59-1.43-.59-.52 0-1.04.2-1.43.59L10.3 9.45l-7.72 7.72c-.78.78-.78 2.05 0 2.83L4 21.41c.39.39.9.59 1.41.59.51 0 1.02-.2 1.41-.59l7.78-7.78 2.81-2.81c.8-.78.8-2.07 0-2.86zM5.41 20L4 18.59l7.72-7.72 1.47 1.35L5.41 20z\"/>\n",
              "  </svg>\n",
              "      </button>\n",
              "      \n",
              "  <style>\n",
              "    .colab-df-container {\n",
              "      display:flex;\n",
              "      flex-wrap:wrap;\n",
              "      gap: 12px;\n",
              "    }\n",
              "\n",
              "    .colab-df-convert {\n",
              "      background-color: #E8F0FE;\n",
              "      border: none;\n",
              "      border-radius: 50%;\n",
              "      cursor: pointer;\n",
              "      display: none;\n",
              "      fill: #1967D2;\n",
              "      height: 32px;\n",
              "      padding: 0 0 0 0;\n",
              "      width: 32px;\n",
              "    }\n",
              "\n",
              "    .colab-df-convert:hover {\n",
              "      background-color: #E2EBFA;\n",
              "      box-shadow: 0px 1px 2px rgba(60, 64, 67, 0.3), 0px 1px 3px 1px rgba(60, 64, 67, 0.15);\n",
              "      fill: #174EA6;\n",
              "    }\n",
              "\n",
              "    [theme=dark] .colab-df-convert {\n",
              "      background-color: #3B4455;\n",
              "      fill: #D2E3FC;\n",
              "    }\n",
              "\n",
              "    [theme=dark] .colab-df-convert:hover {\n",
              "      background-color: #434B5C;\n",
              "      box-shadow: 0px 1px 3px 1px rgba(0, 0, 0, 0.15);\n",
              "      filter: drop-shadow(0px 1px 2px rgba(0, 0, 0, 0.3));\n",
              "      fill: #FFFFFF;\n",
              "    }\n",
              "  </style>\n",
              "\n",
              "      <script>\n",
              "        const buttonEl =\n",
              "          document.querySelector('#df-5c22f42e-db3f-4b76-8017-1e4622ff6a28 button.colab-df-convert');\n",
              "        buttonEl.style.display =\n",
              "          google.colab.kernel.accessAllowed ? 'block' : 'none';\n",
              "\n",
              "        async function convertToInteractive(key) {\n",
              "          const element = document.querySelector('#df-5c22f42e-db3f-4b76-8017-1e4622ff6a28');\n",
              "          const dataTable =\n",
              "            await google.colab.kernel.invokeFunction('convertToInteractive',\n",
              "                                                     [key], {});\n",
              "          if (!dataTable) return;\n",
              "\n",
              "          const docLinkHtml = 'Like what you see? Visit the ' +\n",
              "            '<a target=\"_blank\" href=https://colab.research.google.com/notebooks/data_table.ipynb>data table notebook</a>'\n",
              "            + ' to learn more about interactive tables.';\n",
              "          element.innerHTML = '';\n",
              "          dataTable['output_type'] = 'display_data';\n",
              "          await google.colab.output.renderOutput(dataTable, element);\n",
              "          const docLink = document.createElement('div');\n",
              "          docLink.innerHTML = docLinkHtml;\n",
              "          element.appendChild(docLink);\n",
              "        }\n",
              "      </script>\n",
              "    </div>\n",
              "  </div>\n",
              "  "
            ]
          },
          "metadata": {},
          "execution_count": 8
        }
      ],
      "source": [
        "df.describe()"
      ]
    },
    {
      "cell_type": "markdown",
      "source": [
        "## **Feature Extraction**\n",
        "**Creating new features**\n",
        "1.   **AGE_group**\n",
        "2.   **Membership**\n",
        "3.   **Minimum amount setiap periode**\n",
        "4.   **Pending amount setiap periode**"
      ],
      "metadata": {
        "id": "Gmmi0nwuQtmN"
      }
    },
    {
      "cell_type": "code",
      "execution_count": null,
      "metadata": {
        "id": "0349de09-fe32-46db-8ca3-147255ce33ef"
      },
      "outputs": [],
      "source": [
        "def feature_engineering(df_tmp):\n",
        "  df_tmp['kelompok_usia'] = np.where(df_tmp.AGE < 25, 'Muda', np.where(df_tmp.AGE < 50, 'Dewasa', np.where(df_tmp.AGE < 60, 'Pensiun', 'Lansia' ) ) )\n",
        "  df_tmp['membership_group'] = np.where(df_tmp.LIMIT_BAL < df_tmp.LIMIT_BAL.quantile(.5), 'Silver', np.where(df_tmp.LIMIT_BAL < df_tmp.LIMIT_BAL.quantile(.75), 'Gold', 'Platinum' ) )\n",
        "  df_tmp['PENDING_AMT6']= df_tmp['BILL_AMT6'] - df_tmp['PAY_AMT5']\n",
        "  df_tmp['PENDING_AMT5'] = (df_tmp['BILL_AMT6'] + df_tmp['BILL_AMT5']) - (df_tmp['PAY_AMT5']+df_tmp['PAY_AMT4'])\n",
        "  df_tmp['PENDING_AMT4'] = (df_tmp['BILL_AMT4'] + df_tmp['BILL_AMT5'] + df_tmp['BILL_AMT6']) - (df_tmp['PAY_AMT3'] + df_tmp['PAY_AMT4'] + df_tmp['PAY_AMT5'])\n",
        "  df_tmp['PENDING_AMT3'] = (df_tmp['BILL_AMT3'] + df_tmp['BILL_AMT4'] + df_tmp['BILL_AMT5'] + df_tmp['BILL_AMT6']) - (df_tmp['PAY_AMT2']+ df_tmp['PAY_AMT3']+ df_tmp['PAY_AMT4']+ df_tmp['PAY_AMT5'])\n",
        "  df_tmp['PENDING_AMT2'] = (df_tmp['BILL_AMT2'] + df_tmp['BILL_AMT3'] + df_tmp['BILL_AMT4'] + df_tmp['BILL_AMT5'] + df_tmp['BILL_AMT6']) - (df_tmp['PAY_AMT1'] + df_tmp['PAY_AMT2'] + df_tmp['PAY_AMT3'] + df_tmp['PAY_AMT4'] + df_tmp['PAY_AMT5'])\n",
        "feature_engineering(df)"
      ]
    },
    {
      "cell_type": "markdown",
      "metadata": {
        "id": "4c9f82de-46d3-4336-a0a1-b3a5ea27a567"
      },
      "source": [
        "### Age Group"
      ]
    },
    {
      "cell_type": "code",
      "execution_count": null,
      "metadata": {
        "id": "1c4501ae-707c-414f-a2ea-8e06fd598030",
        "colab": {
          "base_uri": "https://localhost:8080/"
        },
        "outputId": "bf780d5d-7cc6-42e5-9d9f-2ca6a1cd8162"
      },
      "outputs": [
        {
          "output_type": "execute_result",
          "data": {
            "text/plain": [
              "Dewasa     17275\n",
              "Muda        1874\n",
              "Pensiun     1612\n",
              "Lansia       239\n",
              "Name: kelompok_usia, dtype: int64"
            ]
          },
          "metadata": {},
          "execution_count": 10
        }
      ],
      "source": [
        "df['kelompok_usia'].value_counts()"
      ]
    },
    {
      "cell_type": "markdown",
      "metadata": {
        "id": "4e10170e-d4d3-4bb5-a9e7-37c4480ed56b"
      },
      "source": [
        "Customer di dominasi dengan kategori dewasa (26-59 tahun)"
      ]
    },
    {
      "cell_type": "code",
      "execution_count": null,
      "metadata": {
        "id": "9d99163e-73fb-4255-bca5-02840a757529",
        "colab": {
          "base_uri": "https://localhost:8080/",
          "height": 387
        },
        "outputId": "285ff4d9-a1fb-4183-f5ee-1c18a344c566"
      },
      "outputs": [
        {
          "output_type": "execute_result",
          "data": {
            "text/plain": [
              "<seaborn.axisgrid.FacetGrid at 0x7f189948a490>"
            ]
          },
          "metadata": {},
          "execution_count": 11
        },
        {
          "output_type": "display_data",
          "data": {
            "text/plain": [
              "<Figure size 441.625x360 with 1 Axes>"
            ],
            "image/png": "[encoded data removed]"
          },
          "metadata": {
            "needs_background": "light"
          }
        }
      ],
      "source": [
        "sns.displot(data=df, x='default_payment_next_month', kind='kde', hue='kelompok_usia')"
      ]
    },
    {
      "cell_type": "code",
      "execution_count": null,
      "metadata": {
        "id": "05123b96-0b94-4a1f-a566-4f98487d9f22",
        "colab": {
          "base_uri": "https://localhost:8080/",
          "height": 175
        },
        "outputId": "b167fdec-0aac-4dc7-a305-d61fb92fd09a"
      },
      "outputs": [
        {
          "output_type": "execute_result",
          "data": {
            "text/plain": [
              "  kelompok_usia  default_rate\n",
              "2          Muda      0.275880\n",
              "1        Lansia      0.251046\n",
              "3       Pensiun      0.243797\n",
              "0        Dewasa      0.212735"
            ],
            "text/html": [
              "\n",
              "  <div id=\"df-5367d6a7-a2c3-425d-8c40-60cf9873f605\">\n",
              "    <div class=\"colab-df-container\">\n",
              "      <div>\n",
              "<style scoped>\n",
              "    .dataframe tbody tr th:only-of-type {\n",
              "        vertical-align: middle;\n",
              "    }\n",
              "\n",
              "    .dataframe tbody tr th {\n",
              "        vertical-align: top;\n",
              "    }\n",
              "\n",
              "    .dataframe thead th {\n",
              "        text-align: right;\n",
              "    }\n",
              "</style>\n",
              "<table border=\"1\" class=\"dataframe\">\n",
              "  <thead>\n",
              "    <tr style=\"text-align: right;\">\n",
              "      <th></th>\n",
              "      <th>kelompok_usia</th>\n",
              "      <th>default_rate</th>\n",
              "    </tr>\n",
              "  </thead>\n",
              "  <tbody>\n",
              "    <tr>\n",
              "      <th>2</th>\n",
              "      <td>Muda</td>\n",
              "      <td>0.275880</td>\n",
              "    </tr>\n",
              "    <tr>\n",
              "      <th>1</th>\n",
              "      <td>Lansia</td>\n",
              "      <td>0.251046</td>\n",
              "    </tr>\n",
              "    <tr>\n",
              "      <th>3</th>\n",
              "      <td>Pensiun</td>\n",
              "      <td>0.243797</td>\n",
              "    </tr>\n",
              "    <tr>\n",
              "      <th>0</th>\n",
              "      <td>Dewasa</td>\n",
              "      <td>0.212735</td>\n",
              "    </tr>\n",
              "  </tbody>\n",
              "</table>\n",
              "</div>\n",
              "      <button class=\"colab-df-convert\" onclick=\"convertToInteractive('df-5367d6a7-a2c3-425d-8c40-60cf9873f605')\"\n",
              "              title=\"Convert this dataframe to an interactive table.\"\n",
              "              style=\"display:none;\">\n",
              "        \n",
              "  <svg xmlns=\"http://www.w3.org/2000/svg\" height=\"24px\"viewBox=\"0 0 24 24\"\n",
              "       width=\"24px\">\n",
              "    <path d=\"M0 0h24v24H0V0z\" fill=\"none\"/>\n",
              "    <path d=\"M18.56 5.44l.94 2.06.94-2.06 2.06-.94-2.06-.94-.94-2.06-.94 2.06-2.06.94zm-11 1L8.5 8.5l.94-2.06 2.06-.94-2.06-.94L8.5 2.5l-.94 2.06-2.06.94zm10 10l.94 2.06.94-2.06 2.06-.94-2.06-.94-.94-2.06-.94 2.06-2.06.94z\"/><path d=\"M17.41 7.96l-1.37-1.37c-.4-.4-.92-.59-1.43-.59-.52 0-1.04.2-1.43.59L10.3 9.45l-7.72 7.72c-.78.78-.78 2.05 0 2.83L4 21.41c.39.39.9.59 1.41.59.51 0 1.02-.2 1.41-.59l7.78-7.78 2.81-2.81c.8-.78.8-2.07 0-2.86zM5.41 20L4 18.59l7.72-7.72 1.47 1.35L5.41 20z\"/>\n",
              "  </svg>\n",
              "      </button>\n",
              "      \n",
              "  <style>\n",
              "    .colab-df-container {\n",
              "      display:flex;\n",
              "      flex-wrap:wrap;\n",
              "      gap: 12px;\n",
              "    }\n",
              "\n",
              "    .colab-df-convert {\n",
              "      background-color: #E8F0FE;\n",
              "      border: none;\n",
              "      border-radius: 50%;\n",
              "      cursor: pointer;\n",
              "      display: none;\n",
              "      fill: #1967D2;\n",
              "      height: 32px;\n",
              "      padding: 0 0 0 0;\n",
              "      width: 32px;\n",
              "    }\n",
              "\n",
              "    .colab-df-convert:hover {\n",
              "      background-color: #E2EBFA;\n",
              "      box-shadow: 0px 1px 2px rgba(60, 64, 67, 0.3), 0px 1px 3px 1px rgba(60, 64, 67, 0.15);\n",
              "      fill: #174EA6;\n",
              "    }\n",
              "\n",
              "    [theme=dark] .colab-df-convert {\n",
              "      background-color: #3B4455;\n",
              "      fill: #D2E3FC;\n",
              "    }\n",
              "\n",
              "    [theme=dark] .colab-df-convert:hover {\n",
              "      background-color: #434B5C;\n",
              "      box-shadow: 0px 1px 3px 1px rgba(0, 0, 0, 0.15);\n",
              "      filter: drop-shadow(0px 1px 2px rgba(0, 0, 0, 0.3));\n",
              "      fill: #FFFFFF;\n",
              "    }\n",
              "  </style>\n",
              "\n",
              "      <script>\n",
              "        const buttonEl =\n",
              "          document.querySelector('#df-5367d6a7-a2c3-425d-8c40-60cf9873f605 button.colab-df-convert');\n",
              "        buttonEl.style.display =\n",
              "          google.colab.kernel.accessAllowed ? 'block' : 'none';\n",
              "\n",
              "        async function convertToInteractive(key) {\n",
              "          const element = document.querySelector('#df-5367d6a7-a2c3-425d-8c40-60cf9873f605');\n",
              "          const dataTable =\n",
              "            await google.colab.kernel.invokeFunction('convertToInteractive',\n",
              "                                                     [key], {});\n",
              "          if (!dataTable) return;\n",
              "\n",
              "          const docLinkHtml = 'Like what you see? Visit the ' +\n",
              "            '<a target=\"_blank\" href=https://colab.research.google.com/notebooks/data_table.ipynb>data table notebook</a>'\n",
              "            + ' to learn more about interactive tables.';\n",
              "          element.innerHTML = '';\n",
              "          dataTable['output_type'] = 'display_data';\n",
              "          await google.colab.output.renderOutput(dataTable, element);\n",
              "          const docLink = document.createElement('div');\n",
              "          docLink.innerHTML = docLinkHtml;\n",
              "          element.appendChild(docLink);\n",
              "        }\n",
              "      </script>\n",
              "    </div>\n",
              "  </div>\n",
              "  "
            ]
          },
          "metadata": {},
          "execution_count": 12
        }
      ],
      "source": [
        "df.groupby(['kelompok_usia']).agg(default_rate=('default_payment_next_month','mean')).reset_index().sort_values('default_rate',ascending = False)"
      ]
    },
    {
      "cell_type": "markdown",
      "metadata": {
        "id": "9b123d1f-dcca-48f2-9cc9-3d6beacffe8a"
      },
      "source": [
        "### Membership"
      ]
    },
    {
      "cell_type": "code",
      "execution_count": null,
      "metadata": {
        "id": "f8d194e7-8534-4ea2-82b4-630f838a9a9d",
        "colab": {
          "base_uri": "https://localhost:8080/"
        },
        "outputId": "3165bab4-7e6a-473f-b911-61547faaaebe"
      },
      "outputs": [
        {
          "output_type": "execute_result",
          "data": {
            "text/plain": [
              "Silver      10194\n",
              "Gold         5428\n",
              "Platinum     5378\n",
              "Name: membership_group, dtype: int64"
            ]
          },
          "metadata": {},
          "execution_count": 13
        }
      ],
      "source": [
        "df['membership_group'].value_counts()"
      ]
    },
    {
      "cell_type": "code",
      "execution_count": null,
      "metadata": {
        "id": "4c14b013-0708-4d67-89fe-577bf062a57f",
        "colab": {
          "base_uri": "https://localhost:8080/",
          "height": 387
        },
        "outputId": "b11c9249-dbde-43f8-d315-6c207ad6df7e"
      },
      "outputs": [
        {
          "output_type": "execute_result",
          "data": {
            "text/plain": [
              "<seaborn.axisgrid.FacetGrid at 0x7f18983d39d0>"
            ]
          },
          "metadata": {},
          "execution_count": 14
        },
        {
          "output_type": "display_data",
          "data": {
            "text/plain": [
              "<Figure size 464.5x360 with 1 Axes>"
            ],
            "image/png": "[encoded data removed]"
          },
          "metadata": {
            "needs_background": "light"
          }
        }
      ],
      "source": [
        "sns.displot(data=df, x='default_payment_next_month', kind='kde', hue='membership_group')"
      ]
    },
    {
      "cell_type": "code",
      "execution_count": null,
      "metadata": {
        "id": "3b667302-adff-4a05-a91c-8d3ea402e972",
        "colab": {
          "base_uri": "https://localhost:8080/",
          "height": 143
        },
        "outputId": "2ace4cb8-8ae9-469e-9cee-2ec7d206c038"
      },
      "outputs": [
        {
          "output_type": "execute_result",
          "data": {
            "text/plain": [
              "  membership_group  default_rate\n",
              "2           Silver      0.288601\n",
              "0             Gold      0.174097\n",
              "1         Platinum      0.140945"
            ],
            "text/html": [
              "\n",
              "  <div id=\"df-70616b31-37e4-4d6f-b0c9-4710ad481954\">\n",
              "    <div class=\"colab-df-container\">\n",
              "      <div>\n",
              "<style scoped>\n",
              "    .dataframe tbody tr th:only-of-type {\n",
              "        vertical-align: middle;\n",
              "    }\n",
              "\n",
              "    .dataframe tbody tr th {\n",
              "        vertical-align: top;\n",
              "    }\n",
              "\n",
              "    .dataframe thead th {\n",
              "        text-align: right;\n",
              "    }\n",
              "</style>\n",
              "<table border=\"1\" class=\"dataframe\">\n",
              "  <thead>\n",
              "    <tr style=\"text-align: right;\">\n",
              "      <th></th>\n",
              "      <th>membership_group</th>\n",
              "      <th>default_rate</th>\n",
              "    </tr>\n",
              "  </thead>\n",
              "  <tbody>\n",
              "    <tr>\n",
              "      <th>2</th>\n",
              "      <td>Silver</td>\n",
              "      <td>0.288601</td>\n",
              "    </tr>\n",
              "    <tr>\n",
              "      <th>0</th>\n",
              "      <td>Gold</td>\n",
              "      <td>0.174097</td>\n",
              "    </tr>\n",
              "    <tr>\n",
              "      <th>1</th>\n",
              "      <td>Platinum</td>\n",
              "      <td>0.140945</td>\n",
              "    </tr>\n",
              "  </tbody>\n",
              "</table>\n",
              "</div>\n",
              "      <button class=\"colab-df-convert\" onclick=\"convertToInteractive('df-70616b31-37e4-4d6f-b0c9-4710ad481954')\"\n",
              "              title=\"Convert this dataframe to an interactive table.\"\n",
              "              style=\"display:none;\">\n",
              "        \n",
              "  <svg xmlns=\"http://www.w3.org/2000/svg\" height=\"24px\"viewBox=\"0 0 24 24\"\n",
              "       width=\"24px\">\n",
              "    <path d=\"M0 0h24v24H0V0z\" fill=\"none\"/>\n",
              "    <path d=\"M18.56 5.44l.94 2.06.94-2.06 2.06-.94-2.06-.94-.94-2.06-.94 2.06-2.06.94zm-11 1L8.5 8.5l.94-2.06 2.06-.94-2.06-.94L8.5 2.5l-.94 2.06-2.06.94zm10 10l.94 2.06.94-2.06 2.06-.94-2.06-.94-.94-2.06-.94 2.06-2.06.94z\"/><path d=\"M17.41 7.96l-1.37-1.37c-.4-.4-.92-.59-1.43-.59-.52 0-1.04.2-1.43.59L10.3 9.45l-7.72 7.72c-.78.78-.78 2.05 0 2.83L4 21.41c.39.39.9.59 1.41.59.51 0 1.02-.2 1.41-.59l7.78-7.78 2.81-2.81c.8-.78.8-2.07 0-2.86zM5.41 20L4 18.59l7.72-7.72 1.47 1.35L5.41 20z\"/>\n",
              "  </svg>\n",
              "      </button>\n",
              "      \n",
              "  <style>\n",
              "    .colab-df-container {\n",
              "      display:flex;\n",
              "      flex-wrap:wrap;\n",
              "      gap: 12px;\n",
              "    }\n",
              "\n",
              "    .colab-df-convert {\n",
              "      background-color: #E8F0FE;\n",
              "      border: none;\n",
              "      border-radius: 50%;\n",
              "      cursor: pointer;\n",
              "      display: none;\n",
              "      fill: #1967D2;\n",
              "      height: 32px;\n",
              "      padding: 0 0 0 0;\n",
              "      width: 32px;\n",
              "    }\n",
              "\n",
              "    .colab-df-convert:hover {\n",
              "      background-color: #E2EBFA;\n",
              "      box-shadow: 0px 1px 2px rgba(60, 64, 67, 0.3), 0px 1px 3px 1px rgba(60, 64, 67, 0.15);\n",
              "      fill: #174EA6;\n",
              "    }\n",
              "\n",
              "    [theme=dark] .colab-df-convert {\n",
              "      background-color: #3B4455;\n",
              "      fill: #D2E3FC;\n",
              "    }\n",
              "\n",
              "    [theme=dark] .colab-df-convert:hover {\n",
              "      background-color: #434B5C;\n",
              "      box-shadow: 0px 1px 3px 1px rgba(0, 0, 0, 0.15);\n",
              "      filter: drop-shadow(0px 1px 2px rgba(0, 0, 0, 0.3));\n",
              "      fill: #FFFFFF;\n",
              "    }\n",
              "  </style>\n",
              "\n",
              "      <script>\n",
              "        const buttonEl =\n",
              "          document.querySelector('#df-70616b31-37e4-4d6f-b0c9-4710ad481954 button.colab-df-convert');\n",
              "        buttonEl.style.display =\n",
              "          google.colab.kernel.accessAllowed ? 'block' : 'none';\n",
              "\n",
              "        async function convertToInteractive(key) {\n",
              "          const element = document.querySelector('#df-70616b31-37e4-4d6f-b0c9-4710ad481954');\n",
              "          const dataTable =\n",
              "            await google.colab.kernel.invokeFunction('convertToInteractive',\n",
              "                                                     [key], {});\n",
              "          if (!dataTable) return;\n",
              "\n",
              "          const docLinkHtml = 'Like what you see? Visit the ' +\n",
              "            '<a target=\"_blank\" href=https://colab.research.google.com/notebooks/data_table.ipynb>data table notebook</a>'\n",
              "            + ' to learn more about interactive tables.';\n",
              "          element.innerHTML = '';\n",
              "          dataTable['output_type'] = 'display_data';\n",
              "          await google.colab.output.renderOutput(dataTable, element);\n",
              "          const docLink = document.createElement('div');\n",
              "          docLink.innerHTML = docLinkHtml;\n",
              "          element.appendChild(docLink);\n",
              "        }\n",
              "      </script>\n",
              "    </div>\n",
              "  </div>\n",
              "  "
            ]
          },
          "metadata": {},
          "execution_count": 15
        }
      ],
      "source": [
        "df.groupby(['membership_group']).agg(default_rate=('default_payment_next_month','mean')).reset_index().sort_values('default_rate',ascending = False)"
      ]
    },
    {
      "cell_type": "markdown",
      "metadata": {
        "id": "d41a8312-fbd8-4b09-a001-aaf796ce7c99"
      },
      "source": [
        "## **Feature encoding**"
      ]
    },
    {
      "cell_type": "code",
      "source": [
        "def feature_encoding(df_tmp):\n",
        "  mapping_age = {'Muda' : 0, 'Dewasa' : 1, 'Pensiun' : 2, 'Lansia' : 3}\n",
        "  mapping_membership = {'Silver' : 0, 'Gold' : 1, 'Platinum' : 2}\n",
        "  df_tmp['kelompok_usia'] = df_tmp['kelompok_usia'].map(mapping_age)\n",
        "  df_tmp['membership_group'] = df_tmp['membership_group'].map(mapping_membership)\n",
        "feature_encoding(df)\n",
        "df.columns"
      ],
      "metadata": {
        "id": "pQcsSr8zQqd_",
        "colab": {
          "base_uri": "https://localhost:8080/"
        },
        "outputId": "684cddce-0dc4-4929-a96f-b9490bd3aeba"
      },
      "execution_count": null,
      "outputs": [
        {
          "output_type": "execute_result",
          "data": {
            "text/plain": [
              "Index(['ID', 'LIMIT_BAL', 'SEX', 'EDUCATION', 'MARRIAGE', 'AGE', 'PAY_1',\n",
              "       'PAY_2', 'PAY_3', 'PAY_4', 'PAY_5', 'PAY_6', 'BILL_AMT1', 'BILL_AMT2',\n",
              "       'BILL_AMT3', 'BILL_AMT4', 'BILL_AMT5', 'BILL_AMT6', 'PAY_AMT1',\n",
              "       'PAY_AMT2', 'PAY_AMT3', 'PAY_AMT4', 'PAY_AMT5', 'PAY_AMT6',\n",
              "       'default_payment_next_month', 'kelompok_usia', 'membership_group',\n",
              "       'PENDING_AMT6', 'PENDING_AMT5', 'PENDING_AMT4', 'PENDING_AMT3',\n",
              "       'PENDING_AMT2'],\n",
              "      dtype='object')"
            ]
          },
          "metadata": {},
          "execution_count": 16
        }
      ]
    },
    {
      "cell_type": "markdown",
      "source": [
        "### **Splitting Data**"
      ],
      "metadata": {
        "id": "1V0Kup0YQra-"
      }
    },
    {
      "cell_type": "code",
      "execution_count": null,
      "metadata": {
        "id": "e33c8f8e-4fb7-4e33-be70-f3d848306102"
      },
      "outputs": [],
      "source": [
        "x_columns = [col_name for col_name in df.columns if col_name not in ['default_payment_next_month','ID']]\n",
        "x = df[x_columns]\n",
        "y = df[['default_payment_next_month']]\n",
        "\n",
        "from sklearn.model_selection import train_test_split\n",
        "xtrain, xtest, ytrain, ytest = train_test_split(x,y,test_size=0.3, random_state=42)"
      ]
    },
    {
      "cell_type": "code",
      "source": [
        "xtrain.shape, xtest.shape"
      ],
      "metadata": {
        "colab": {
          "base_uri": "https://localhost:8080/"
        },
        "id": "7X4Q7PR0eGUP",
        "outputId": "2a8f1bf9-29d6-479c-fd44-6b7525a7f314"
      },
      "execution_count": null,
      "outputs": [
        {
          "output_type": "execute_result",
          "data": {
            "text/plain": [
              "((14700, 30), (6300, 30))"
            ]
          },
          "metadata": {},
          "execution_count": 18
        }
      ]
    },
    {
      "cell_type": "code",
      "source": [
        "ytest.value_counts(normalize=True)"
      ],
      "metadata": {
        "id": "c7J61UR6esCo",
        "colab": {
          "base_uri": "https://localhost:8080/"
        },
        "outputId": "4b04676c-881f-4cd5-e61a-4dc5ad4bd349"
      },
      "execution_count": null,
      "outputs": [
        {
          "output_type": "execute_result",
          "data": {
            "text/plain": [
              "default_payment_next_month\n",
              "0                             0.776508\n",
              "1                             0.223492\n",
              "dtype: float64"
            ]
          },
          "metadata": {},
          "execution_count": 19
        }
      ]
    },
    {
      "cell_type": "code",
      "source": [
        "ytrain.value_counts(normalize=True)"
      ],
      "metadata": {
        "colab": {
          "base_uri": "https://localhost:8080/"
        },
        "id": "ZMoXVnnNFDiT",
        "outputId": "a719f717-c0e5-4de6-fe74-1962ddc49e3d"
      },
      "execution_count": null,
      "outputs": [
        {
          "output_type": "execute_result",
          "data": {
            "text/plain": [
              "default_payment_next_month\n",
              "0                             0.779796\n",
              "1                             0.220204\n",
              "dtype: float64"
            ]
          },
          "metadata": {},
          "execution_count": 20
        }
      ]
    },
    {
      "cell_type": "code",
      "source": [
        "def plot_me(df, all_columns, figsize=(30, 15)):\n",
        "  plt.figure(figsize=figsize)\n",
        "  for col_name, index in zip(all_columns, range(len(all_columns))):\n",
        "      plt.subplot( math.ceil(len(all_columns)/6)  , 6, index+1)\n",
        "      sns.kdeplot(x=df[col_name], color='green', linewidth=3, fill=True)\n",
        "      plt.xlabel(col_name)\n",
        "  plt.show()\n",
        "\n",
        "def get_minmax_scaler(df, columns):\n",
        "  scaler = {}\n",
        "  for col in columns:\n",
        "    scaler[col] = MinMaxScaler().fit( np.array(df[col]).reshape(-1,1) )\n",
        "  return scaler\n",
        "\n",
        "def get_standard_scaler(df, columns):\n",
        "  scaler = {}\n",
        "  for col in columns:\n",
        "    scaler[col] = StandardScaler().fit( np.array(df[col]).reshape(-1,1) )\n",
        "  return scaler\n",
        "\n",
        "def apply_transform(scaler, df):\n",
        "  temp_df = df.copy()\n",
        "  for col in scaler.keys():\n",
        "    temp_df[col] = scaler[col].transform( np.array(df[col]).reshape(-1,1) )\n",
        "  return temp_df"
      ],
      "metadata": {
        "id": "CKjNn9xup8wu"
      },
      "execution_count": null,
      "outputs": []
    },
    {
      "cell_type": "code",
      "source": [
        "def eval_classification(model, xtrain, ytrain, xtest, ytest, threshold=0.5):\n",
        "    ypred_proba_test = model.predict_proba(xtest)\n",
        "    ypred_proba_train = model.predict_proba(xtrain)\n",
        "    ypred_datatest = np.where(ypred_proba_test[:,1]>=threshold, 1, 0 )\n",
        "    ypred_datatrain = np.where(ypred_proba_train[:,1]>=threshold, 1, 0 )\n",
        "    \n",
        "    cm = confusion_matrix(ytest, ypred_datatest)\n",
        "    tn, fp, fn, tp = cm.ravel()\n",
        "\n",
        "    print(\"Accuracy (Test Set): %.2f\" % accuracy_score(ytest, ypred_datatest))\n",
        "    print(\"Precision (Test Set): %.2f\" % precision_score(ytest, ypred_datatest))\n",
        "    # print(\"Precision (Train Set): %.2f\" % precision_score(ytrain, ypred_datatrain))\n",
        "    print(\"Recall (Test Set): %.2f\" % recall_score(ytest, ypred_datatest))\n",
        "    # print(\"Recall (Train Set): %.2f\" % recall_score(ytrain, ypred_datatrain))\n",
        "    print(\"F1-Score (Test Set): %.2f\" % f1_score(ytest, ypred_datatest))\n",
        "    # print(\"F1-Score (Train Set): %.2f\" % f1_score(ytrain, ypred))\n",
        "    print(\"AUC (test-proba): %.2f\" % roc_auc_score(ytest, ypred_proba_test[:,1] ))\n",
        "    print(\"AUC (train-proba): %.2f\" % roc_auc_score(ytrain, ypred_proba_train[:,1] ))\n",
        "    print('tp : {}\\nfp  : {}\\nfn  : {}\\ntn  : {}\\n'.format(tp, fp, fn, tn))\n",
        "\n",
        "def eval_simulated_data(model, xtest, ytest, threshold=0.5):\n",
        "    ypred_proba_datatest = model.predict_proba(xtest)\n",
        "    ypred_datatest = np.where(ypred_proba_datatest[:,1]>=threshold, 1, 0 )\n",
        "    cm = confusion_matrix(ytest, ypred_datatest)\n",
        "    tn, fp, fn, tp = cm.ravel()\n",
        "    print(\"Accuracy (Test Set): %.2f\" % accuracy_score(ytest, ypred_datatest))\n",
        "    print(\"Precision (Test Set): %.2f\" % precision_score(ytest, ypred_datatest))\n",
        "    print(\"Recall (Test Set): %.2f\" % recall_score(ytest, ypred_datatest))\n",
        "    print(\"F1-Score (Test Set): %.2f\" % f1_score(ytest, ypred_datatest))\n",
        "    print(\"AUC (test-proba): %.2f\" % roc_auc_score(ytest, ypred_proba_datatest[:,1]))\n",
        "    print('\\ntp : {}\\nfp  : {}\\nfn  : {}\\ntn  : {}'.format(tp, fp, fn, tn))"
      ],
      "metadata": {
        "id": "qVruUMNqU0KO"
      },
      "execution_count": null,
      "outputs": []
    },
    {
      "cell_type": "markdown",
      "source": [
        "# **DECISION TREE**"
      ],
      "metadata": {
        "id": "VVdvRIX2fF4E"
      }
    },
    {
      "cell_type": "markdown",
      "source": [
        "**Skenario 1 - Tanpa Pre-processing**"
      ],
      "metadata": {
        "id": "ZeYe9bv0TbJc"
      }
    },
    {
      "cell_type": "code",
      "source": [
        "dt_model = DecisionTreeClassifier(random_state=42)\n",
        "dt_model.fit(xtrain, ytrain)\n",
        "eval_classification(dt_model, xtrain, ytrain, xtest, ytest)"
      ],
      "metadata": {
        "colab": {
          "base_uri": "https://localhost:8080/"
        },
        "id": "rRlEhQT7VWdX",
        "outputId": "95106797-7a02-4561-946e-daac74caf968"
      },
      "execution_count": null,
      "outputs": [
        {
          "output_type": "stream",
          "name": "stdout",
          "text": [
            "Accuracy (Test Set): 0.72\n",
            "Precision (Test Set): 0.38\n",
            "Recall (Test Set): 0.42\n",
            "F1-Score (Test Set): 0.40\n",
            "AUC (test-proba): 0.61\n",
            "AUC (train-proba): 1.00\n",
            "tp : 594\n",
            "fp  : 972\n",
            "fn  : 814\n",
            "tn  : 3920\n",
            "\n"
          ]
        }
      ]
    },
    {
      "cell_type": "markdown",
      "source": [
        "**Skenario 2 - Handling Imbalance pada Data Training dengan SMOTE**"
      ],
      "metadata": {
        "id": "6eUhzZ6eY9D8"
      }
    },
    {
      "cell_type": "code",
      "source": [
        "X_train_balance, y_train_balance = xtrain.copy(), ytrain.copy()\n",
        "X_train_balance, y_train_balance  = over_sampling.SMOTE(sampling_strategy=1.0).fit_resample(X_train_balance, y_train_balance)\n",
        "\n",
        "dt_model.fit(X_train_balance, y_train_balance )\n",
        "eval_classification(dt_model, X_train_balance, y_train_balance, xtest, ytest)"
      ],
      "metadata": {
        "id": "83od8jfPZEER",
        "colab": {
          "base_uri": "https://localhost:8080/"
        },
        "outputId": "e651690a-817f-458f-bf01-b3bdb7d8c828"
      },
      "execution_count": null,
      "outputs": [
        {
          "output_type": "stream",
          "name": "stdout",
          "text": [
            "Accuracy (Test Set): 0.68\n",
            "Precision (Test Set): 0.34\n",
            "Recall (Test Set): 0.46\n",
            "F1-Score (Test Set): 0.39\n",
            "AUC (test-proba): 0.60\n",
            "AUC (train-proba): 1.00\n",
            "tp : 650\n",
            "fp  : 1245\n",
            "fn  : 758\n",
            "tn  : 3647\n",
            "\n"
          ]
        }
      ]
    },
    {
      "cell_type": "markdown",
      "source": [
        "### **Hyper-Parameter Tuning**\n",
        "#### **Adjusted Variables**"
      ],
      "metadata": {
        "id": "_JlyDWVsonji"
      }
    },
    {
      "cell_type": "code",
      "source": [
        "max_depth = [int(x) for x in np.linspace(1, 121, num = 30)]\n",
        "min_samples_split = [int(x) for x in np.linspace(5, 121, num = 40)]\n",
        "min_samples_leaf = [int(x) for x in np.linspace(1, 121, num = 40)]\n",
        "max_features = ['auto', 'sqrt'] \n",
        "hyperparameters = dict(max_depth = max_depth, \n",
        "                       min_samples_split = min_samples_split, \n",
        "                       min_samples_leaf = min_samples_leaf,\n",
        "                       max_features = max_features\n",
        "                      )\n",
        "scoring = 'roc_auc'\n",
        "# dt_model_GS = GridSearchCV(dt_model, hyperparameters, cv=5, scoring=scoring, n_jobs=-1) \n",
        "dt_model_RS = RandomizedSearchCV(dt_model, hyperparameters, cv=5, scoring=scoring , n_jobs=-1, random_state=111) "
      ],
      "metadata": {
        "id": "x8CKOf7oohfE"
      },
      "execution_count": null,
      "outputs": []
    },
    {
      "cell_type": "markdown",
      "source": [
        "**Imbalance Data**"
      ],
      "metadata": {
        "id": "lWgmQWHUhy17"
      }
    },
    {
      "cell_type": "code",
      "source": [
        "model = dt_model_RS.fit(xtrain, ytrain)\n",
        "eval_classification(model, xtrain, ytrain, xtest, ytest)\n",
        "model.best_estimator_.get_params()"
      ],
      "metadata": {
        "id": "g7F6yurI5WJs",
        "colab": {
          "base_uri": "https://localhost:8080/"
        },
        "outputId": "ddaf69ca-3c5d-4387-a67a-e7bceadfcc0b"
      },
      "execution_count": null,
      "outputs": [
        {
          "output_type": "stream",
          "name": "stdout",
          "text": [
            "Accuracy (Test Set): 0.80\n",
            "Precision (Test Set): 0.60\n",
            "Recall (Test Set): 0.37\n",
            "F1-Score (Test Set): 0.46\n",
            "AUC (test-proba): 0.75\n",
            "AUC (train-proba): 0.79\n",
            "tp : 520\n",
            "fp  : 345\n",
            "fn  : 888\n",
            "tn  : 4547\n",
            "\n"
          ]
        },
        {
          "output_type": "execute_result",
          "data": {
            "text/plain": [
              "{'ccp_alpha': 0.0,\n",
              " 'class_weight': None,\n",
              " 'criterion': 'gini',\n",
              " 'max_depth': 34,\n",
              " 'max_features': 'sqrt',\n",
              " 'max_leaf_nodes': None,\n",
              " 'min_impurity_decrease': 0.0,\n",
              " 'min_samples_leaf': 121,\n",
              " 'min_samples_split': 94,\n",
              " 'min_weight_fraction_leaf': 0.0,\n",
              " 'random_state': 42,\n",
              " 'splitter': 'best'}"
            ]
          },
          "metadata": {},
          "execution_count": 26
        }
      ]
    },
    {
      "cell_type": "code",
      "source": [
        "feature_importances_dt = pd.Series(model.best_estimator_.feature_importances_ , index=xtrain.columns)\n",
        "feature_importances_dt"
      ],
      "metadata": {
        "colab": {
          "base_uri": "https://localhost:8080/"
        },
        "id": "hL69kUz1l-LA",
        "outputId": "3f55bf07-065d-4d33-8f65-a33e74b6a3b1"
      },
      "execution_count": null,
      "outputs": [
        {
          "output_type": "execute_result",
          "data": {
            "text/plain": [
              "LIMIT_BAL           0.015776\n",
              "SEX                 0.000000\n",
              "EDUCATION           0.000000\n",
              "MARRIAGE            0.000000\n",
              "AGE                 0.000964\n",
              "PAY_1               0.405115\n",
              "PAY_2               0.036829\n",
              "PAY_3               0.255219\n",
              "PAY_4               0.034696\n",
              "PAY_5               0.026016\n",
              "PAY_6               0.018618\n",
              "BILL_AMT1           0.009310\n",
              "BILL_AMT2           0.015460\n",
              "BILL_AMT3           0.007327\n",
              "BILL_AMT4           0.001380\n",
              "BILL_AMT5           0.005429\n",
              "BILL_AMT6           0.005372\n",
              "PAY_AMT1            0.026872\n",
              "PAY_AMT2            0.002015\n",
              "PAY_AMT3            0.068172\n",
              "PAY_AMT4            0.007709\n",
              "PAY_AMT5            0.002447\n",
              "PAY_AMT6            0.002308\n",
              "kelompok_usia       0.000424\n",
              "membership_group    0.040680\n",
              "PENDING_AMT6        0.001546\n",
              "PENDING_AMT5        0.002177\n",
              "PENDING_AMT4        0.002648\n",
              "PENDING_AMT3        0.003412\n",
              "PENDING_AMT2        0.002077\n",
              "dtype: float64"
            ]
          },
          "metadata": {},
          "execution_count": 27
        }
      ]
    },
    {
      "cell_type": "markdown",
      "source": [
        "**Balance Data**"
      ],
      "metadata": {
        "id": "M2Qjcy8Ah2dC"
      }
    },
    {
      "cell_type": "code",
      "source": [
        "model = dt_model_RS.fit(X_train_balance, y_train_balance)\n",
        "eval_classification(model, X_train_balance, y_train_balance, xtest, ytest)\n",
        "model.best_estimator_.get_params()"
      ],
      "metadata": {
        "id": "6H9x8TWivyoi",
        "colab": {
          "base_uri": "https://localhost:8080/"
        },
        "outputId": "e6ef5a57-3d16-44c7-e4ea-19ba44c28ebf"
      },
      "execution_count": null,
      "outputs": [
        {
          "output_type": "stream",
          "name": "stdout",
          "text": [
            "Accuracy (Test Set): 0.71\n",
            "Precision (Test Set): 0.40\n",
            "Recall (Test Set): 0.57\n",
            "F1-Score (Test Set): 0.47\n",
            "AUC (test-proba): 0.71\n",
            "AUC (train-proba): 0.89\n",
            "tp : 798\n",
            "fp  : 1209\n",
            "fn  : 610\n",
            "tn  : 3683\n",
            "\n"
          ]
        },
        {
          "output_type": "execute_result",
          "data": {
            "text/plain": [
              "{'ccp_alpha': 0.0,\n",
              " 'class_weight': None,\n",
              " 'criterion': 'gini',\n",
              " 'max_depth': 100,\n",
              " 'max_features': 'auto',\n",
              " 'max_leaf_nodes': None,\n",
              " 'min_impurity_decrease': 0.0,\n",
              " 'min_samples_leaf': 19,\n",
              " 'min_samples_split': 82,\n",
              " 'min_weight_fraction_leaf': 0.0,\n",
              " 'random_state': 42,\n",
              " 'splitter': 'best'}"
            ]
          },
          "metadata": {},
          "execution_count": 28
        }
      ]
    },
    {
      "cell_type": "markdown",
      "source": [
        "# **kNN**"
      ],
      "metadata": {
        "id": "YkJ6DTFqtG0V"
      }
    },
    {
      "cell_type": "code",
      "source": [
        "X_train_std, X_test = xtrain.copy(), xtest.copy()\n",
        "X_scaler_std = get_standard_scaler(X_train_std, X_train_std.columns)\n",
        "X_train_std, X_test_std = apply_transform(X_scaler_std, X_train_std), apply_transform(X_scaler_std, X_test)\n",
        "\n",
        "X_train_bal_std, y_train_balance = xtrain.copy(), ytrain.copy()\n",
        "X_scaler_bal_std = get_standard_scaler(X_train_bal_std, X_train_bal_std.columns)\n",
        "X_train_bal_std = apply_transform(X_scaler_bal_std, X_train_bal_std)\n",
        "\n",
        "X_train_bal_std, y_train_balance  = over_sampling.SMOTE(sampling_strategy=1.0).fit_resample(X_train_bal_std, y_train_balance)"
      ],
      "metadata": {
        "id": "n5QIU92ORbzR"
      },
      "execution_count": null,
      "outputs": []
    },
    {
      "cell_type": "markdown",
      "source": [
        "**Imbalance Data**"
      ],
      "metadata": {
        "id": "tSovM9UkMV0X"
      }
    },
    {
      "cell_type": "code",
      "source": [
        "from sklearn.neighbors import KNeighborsClassifier\n",
        "knn_model = KNeighborsClassifier()\n",
        "knn_model.fit(X_train_std, ytrain.values.ravel())\n",
        "eval_classification(knn_model, X_train_std, ytrain, X_test_std, ytest)"
      ],
      "metadata": {
        "colab": {
          "base_uri": "https://localhost:8080/"
        },
        "id": "tKuxcrastMNd",
        "outputId": "3d776bca-274b-46b0-e5c2-768ed269aa63"
      },
      "execution_count": null,
      "outputs": [
        {
          "output_type": "stream",
          "name": "stdout",
          "text": [
            "Accuracy (Test Set): 0.79\n",
            "Precision (Test Set): 0.55\n",
            "Recall (Test Set): 0.34\n",
            "F1-Score (Test Set): 0.42\n",
            "AUC (test-proba): 0.71\n",
            "AUC (train-proba): 0.88\n",
            "tp : 472\n",
            "fp  : 380\n",
            "fn  : 936\n",
            "tn  : 4512\n",
            "\n"
          ]
        }
      ]
    },
    {
      "cell_type": "markdown",
      "source": [
        "**Balance Data**"
      ],
      "metadata": {
        "id": "TfjPZ9lyMaoF"
      }
    },
    {
      "cell_type": "code",
      "source": [
        "from sklearn.neighbors import KNeighborsClassifier\n",
        "knn_model = KNeighborsClassifier()\n",
        "knn_model.fit(X_train_std, ytrain.values.ravel())\n",
        "eval_classification(knn_model, X_train_bal_std, y_train_balance, X_test_std, ytest)"
      ],
      "metadata": {
        "colab": {
          "base_uri": "https://localhost:8080/"
        },
        "id": "YEYssm6juSjd",
        "outputId": "81e56f9a-b6e2-43ad-f159-c5a88ca135a5"
      },
      "execution_count": null,
      "outputs": [
        {
          "output_type": "stream",
          "name": "stdout",
          "text": [
            "Accuracy (Test Set): 0.79\n",
            "Precision (Test Set): 0.55\n",
            "Recall (Test Set): 0.34\n",
            "F1-Score (Test Set): 0.42\n",
            "AUC (test-proba): 0.71\n",
            "AUC (train-proba): 0.89\n",
            "tp : 472\n",
            "fp  : 380\n",
            "fn  : 936\n",
            "tn  : 4512\n",
            "\n"
          ]
        }
      ]
    },
    {
      "cell_type": "markdown",
      "source": [
        "**Tuning Hyper-Parameter**"
      ],
      "metadata": {
        "id": "V8BUS-J2zLf_"
      }
    },
    {
      "cell_type": "code",
      "source": [
        "n_neighbors = list(range(3,30,2))\n",
        "p=[1,2]\n",
        "algorithm = ['auto', 'ball_tree', 'kd_tree', 'brute']\n",
        "hyperparameters = dict( n_neighbors = n_neighbors, \n",
        "                        p = p,\n",
        "                        algorithm = algorithm\n",
        "                       )\n",
        "knn_model = KNeighborsClassifier()\n",
        "knn_model = RandomizedSearchCV(knn_model, hyperparameters, cv=5, random_state=42, scoring=scoring)\n",
        "knn_model.fit(X_train_std, ytrain.values.ravel())\n",
        "eval_classification(knn_model, X_train_std, ytrain, X_test_std, ytest)"
      ],
      "metadata": {
        "colab": {
          "base_uri": "https://localhost:8080/"
        },
        "id": "Z2GR8sdgzPzw",
        "outputId": "e7557707-2af0-4788-efbb-0d5d3f335b7e"
      },
      "execution_count": null,
      "outputs": [
        {
          "output_type": "stream",
          "name": "stdout",
          "text": [
            "Accuracy (Test Set): 0.80\n",
            "Precision (Test Set): 0.64\n",
            "Recall (Test Set): 0.25\n",
            "F1-Score (Test Set): 0.35\n",
            "AUC (test-proba): 0.74\n",
            "AUC (train-proba): 0.80\n",
            "tp : 345\n",
            "fp  : 192\n",
            "fn  : 1063\n",
            "tn  : 4700\n",
            "\n"
          ]
        }
      ]
    },
    {
      "cell_type": "markdown",
      "source": [
        "# **Logistic Regression**"
      ],
      "metadata": {
        "id": "WHe3zzXhH1gh"
      }
    },
    {
      "cell_type": "code",
      "source": [
        "from sklearn.linear_model import LogisticRegression\n",
        "logreg = LogisticRegression()\n",
        "logreg.fit(X_train_bal_std, y_train_balance.values.ravel())\n",
        "eval_classification(logreg, X_train_bal_std, y_train_balance, xtest, ytest)"
      ],
      "metadata": {
        "colab": {
          "base_uri": "https://localhost:8080/"
        },
        "id": "LhCr4zqHH485",
        "outputId": "a7a44a91-0329-48d7-b9d7-a73a55be8b7f"
      },
      "execution_count": null,
      "outputs": [
        {
          "output_type": "stream",
          "name": "stdout",
          "text": [
            "Accuracy (Test Set): 0.58\n",
            "Precision (Test Set): 0.28\n",
            "Recall (Test Set): 0.53\n",
            "F1-Score (Test Set): 0.36\n",
            "AUC (test-proba): 0.57\n",
            "AUC (train-proba): 0.74\n",
            "tp : 752\n",
            "fp  : 1974\n",
            "fn  : 656\n",
            "tn  : 2918\n",
            "\n"
          ]
        }
      ]
    },
    {
      "cell_type": "markdown",
      "source": [
        "**Tuning Hyper-Parameter**"
      ],
      "metadata": {
        "id": "01W7HjqEif-8"
      }
    },
    {
      "cell_type": "code",
      "source": [
        "penalty = ['l1', 'l2']\n",
        "C = [0.0001, 0.001, 0.01, 0.02, 0.03]\n",
        "scoring = 'roc_auc'\n",
        "hyperparameter = dict(penalty=penalty, C=C)\n",
        "logreg = LogisticRegression()\n",
        "model_logreg = RandomizedSearchCV( logreg, hyperparameter, scoring=scoring , cv=5, random_state=42)\n",
        "model_logreg.fit(X_train_bal_std, y_train_balance.values.ravel())\n",
        "eval_classification(model_logreg, X_train_bal_std, y_train_balance, xtest, ytest)"
      ],
      "metadata": {
        "colab": {
          "base_uri": "https://localhost:8080/"
        },
        "id": "pM3ydQHHikoX",
        "outputId": "e70e1f76-628c-4b14-bd60-1c5d66af190c"
      },
      "execution_count": null,
      "outputs": [
        {
          "output_type": "stream",
          "name": "stderr",
          "text": [
            "/usr/local/lib/python3.7/dist-packages/sklearn/model_selection/_validation.py:372: FitFailedWarning: \n",
            "25 fits failed out of a total of 50.\n",
            "The score on these train-test partitions for these parameters will be set to nan.\n",
            "If these failures are not expected, you can try to debug them by setting error_score='raise'.\n",
            "\n",
            "Below are more details about the failures:\n",
            "--------------------------------------------------------------------------------\n",
            "25 fits failed with the following error:\n",
            "Traceback (most recent call last):\n",
            "  File \"/usr/local/lib/python3.7/dist-packages/sklearn/model_selection/_validation.py\", line 680, in _fit_and_score\n",
            "    estimator.fit(X_train, y_train, **fit_params)\n",
            "  File \"/usr/local/lib/python3.7/dist-packages/sklearn/linear_model/_logistic.py\", line 1461, in fit\n",
            "    solver = _check_solver(self.solver, self.penalty, self.dual)\n",
            "  File \"/usr/local/lib/python3.7/dist-packages/sklearn/linear_model/_logistic.py\", line 449, in _check_solver\n",
            "    % (solver, penalty)\n",
            "ValueError: Solver lbfgs supports only 'l2' or 'none' penalties, got l1 penalty.\n",
            "\n",
            "  warnings.warn(some_fits_failed_message, FitFailedWarning)\n",
            "/usr/local/lib/python3.7/dist-packages/sklearn/model_selection/_search.py:972: UserWarning: One or more of the test scores are non-finite: [       nan 0.71725014        nan 0.7340181         nan 0.73950652\n",
            "        nan 0.7400963         nan 0.74031774]\n",
            "  category=UserWarning,\n"
          ]
        },
        {
          "output_type": "stream",
          "name": "stdout",
          "text": [
            "Accuracy (Test Set): 0.60\n",
            "Precision (Test Set): 0.28\n",
            "Recall (Test Set): 0.52\n",
            "F1-Score (Test Set): 0.36\n",
            "AUC (test-proba): 0.57\n",
            "AUC (train-proba): 0.74\n",
            "tp : 726\n",
            "fp  : 1853\n",
            "fn  : 682\n",
            "tn  : 3039\n",
            "\n"
          ]
        }
      ]
    },
    {
      "cell_type": "markdown",
      "source": [
        "# **RANDOM FOREST**"
      ],
      "metadata": {
        "id": "pKQl-2JkfMYw"
      }
    },
    {
      "cell_type": "markdown",
      "source": [
        "**Skenario 1 - Tanpa Pre-Processing**"
      ],
      "metadata": {
        "id": "AeSblnjtf58p"
      }
    },
    {
      "cell_type": "code",
      "source": [
        "rf_model = RandomForestClassifier(random_state=42)\n",
        "rf_model.fit(xtrain, ytrain.values.ravel())\n",
        "eval_classification(rf_model, xtrain, ytrain, xtest, ytest)"
      ],
      "metadata": {
        "id": "lPYYzDJOf_io",
        "colab": {
          "base_uri": "https://localhost:8080/"
        },
        "outputId": "919e96e1-5422-47be-9b0f-d898360259e4"
      },
      "execution_count": null,
      "outputs": [
        {
          "output_type": "stream",
          "name": "stdout",
          "text": [
            "Accuracy (Test Set): 0.81\n",
            "Precision (Test Set): 0.62\n",
            "Recall (Test Set): 0.38\n",
            "F1-Score (Test Set): 0.47\n",
            "AUC (test-proba): 0.76\n",
            "AUC (train-proba): 1.00\n",
            "tp : 542\n",
            "fp  : 339\n",
            "fn  : 866\n",
            "tn  : 4553\n",
            "\n"
          ]
        }
      ]
    },
    {
      "cell_type": "markdown",
      "source": [
        "**Skenario 2 - Handling Imbalance Data**"
      ],
      "metadata": {
        "id": "WghpTIHPforW"
      }
    },
    {
      "cell_type": "code",
      "source": [
        "rf_model = RandomForestClassifier(random_state=42)\n",
        "rf_model.fit(X_train_balance, y_train_balance.values.ravel())\n",
        "eval_classification(rf_model, X_train_balance, y_train_balance, xtest, ytest)"
      ],
      "metadata": {
        "id": "InkW82dqfQ9M",
        "colab": {
          "base_uri": "https://localhost:8080/"
        },
        "outputId": "afc35849-4208-48fb-c1f9-0921ef4e764c"
      },
      "execution_count": null,
      "outputs": [
        {
          "output_type": "stream",
          "name": "stdout",
          "text": [
            "Accuracy (Test Set): 0.78\n",
            "Precision (Test Set): 0.50\n",
            "Recall (Test Set): 0.50\n",
            "F1-Score (Test Set): 0.50\n",
            "AUC (test-proba): 0.75\n",
            "AUC (train-proba): 1.00\n",
            "tp : 710\n",
            "fp  : 709\n",
            "fn  : 698\n",
            "tn  : 4183\n",
            "\n"
          ]
        }
      ]
    },
    {
      "cell_type": "markdown",
      "source": [
        "**Tuning Hyper-Parameter**"
      ],
      "metadata": {
        "id": "yzaS8lDwbKkK"
      }
    },
    {
      "cell_type": "code",
      "source": [
        "n_estimators = [i for i in range(20, 200, 20)]\n",
        "max_depth = [int(x) for x in np.linspace(1, 121, num = 30)]\n",
        "min_samples_split = [int(x) for x in np.linspace(5, 121, num = 40)]\n",
        "min_samples_leaf = [int(x) for x in np.linspace(1, 121, num = 40)]\n",
        "max_features = ['auto', 'sqrt'] "
      ],
      "metadata": {
        "id": "XTOWGtliHEAO"
      },
      "execution_count": null,
      "outputs": []
    },
    {
      "cell_type": "code",
      "source": [
        "scoring = 'roc_auc'\n",
        "rf_model = RandomForestClassifier(random_state=42)\n",
        "hyperparameters = dict(n_estimators = n_estimators,\n",
        "                       max_depth = max_depth, \n",
        "                       min_samples_split = min_samples_split, \n",
        "                       min_samples_leaf = min_samples_leaf,\n",
        "                       max_features = max_features\n",
        "                      )\n",
        "rf_model_RS = RandomizedSearchCV(rf_model, hyperparameters, cv=5, scoring=scoring, n_jobs=-1, random_state=111) \n",
        "\n",
        "model_rf = rf_model_RS.fit(xtrain, ytrain.values.ravel())\n",
        "y_predict = model_rf.predict(xtest)\n",
        "eval_classification(model_rf, xtrain, ytrain, xtest, ytest)\n",
        "rf_best_hyperparams = model_rf.best_estimator_.get_params()\n",
        "rf_best_hyperparams['random_state'] = 42\n",
        "rf_best_hyperparams"
      ],
      "metadata": {
        "colab": {
          "base_uri": "https://localhost:8080/"
        },
        "id": "YAtMUIGhbTB0",
        "outputId": "bc07abe6-2a15-4718-cb6d-d0ebdcd762ad"
      },
      "execution_count": null,
      "outputs": [
        {
          "output_type": "stream",
          "name": "stdout",
          "text": [
            "Accuracy (Test Set): 0.81\n",
            "Precision (Test Set): 0.67\n",
            "Recall (Test Set): 0.33\n",
            "F1-Score (Test Set): 0.44\n",
            "AUC (test-proba): 0.78\n",
            "AUC (train-proba): 0.82\n",
            "tp : 463\n",
            "fp  : 233\n",
            "fn  : 945\n",
            "tn  : 4659\n",
            "\n"
          ]
        },
        {
          "output_type": "execute_result",
          "data": {
            "text/plain": [
              "{'bootstrap': True,\n",
              " 'ccp_alpha': 0.0,\n",
              " 'class_weight': None,\n",
              " 'criterion': 'gini',\n",
              " 'max_depth': 67,\n",
              " 'max_features': 'auto',\n",
              " 'max_leaf_nodes': None,\n",
              " 'max_samples': None,\n",
              " 'min_impurity_decrease': 0.0,\n",
              " 'min_samples_leaf': 84,\n",
              " 'min_samples_split': 118,\n",
              " 'min_weight_fraction_leaf': 0.0,\n",
              " 'n_estimators': 140,\n",
              " 'n_jobs': None,\n",
              " 'oob_score': False,\n",
              " 'random_state': 42,\n",
              " 'verbose': 0,\n",
              " 'warm_start': False}"
            ]
          },
          "metadata": {},
          "execution_count": 38
        }
      ]
    },
    {
      "cell_type": "code",
      "source": [
        "importance_features = pd.DataFrame(rf_model_RS.best_estimator_.feature_importances_ , index=xtrain.columns, columns=['weight']).sort_values(by=['weight'], ascending=False)\n",
        "plt.figure(figsize=(10,10))\n",
        "sns.barplot(y=importance_features.index, x=importance_features['weight'])\n",
        "plt.show()"
      ],
      "metadata": {
        "colab": {
          "base_uri": "https://localhost:8080/",
          "height": 606
        },
        "id": "UyZBvuHiiUEj",
        "outputId": "2d417774-7b28-4f46-88b9-0035b5d73aa4"
      },
      "execution_count": null,
      "outputs": [
        {
          "output_type": "display_data",
          "data": {
            "text/plain": [
              "<Figure size 720x720 with 1 Axes>"
            ],
            "image/png": "[encoded data removed]"
          },
          "metadata": {
            "needs_background": "light"
          }
        }
      ]
    },
    {
      "cell_type": "code",
      "source": [
        "importance_features"
      ],
      "metadata": {
        "colab": {
          "base_uri": "https://localhost:8080/",
          "height": 990
        },
        "id": "oaz4xmuLjXei",
        "outputId": "398a5004-5c1d-48b1-c9dc-7125d6208cbf"
      },
      "execution_count": null,
      "outputs": [
        {
          "output_type": "execute_result",
          "data": {
            "text/plain": [
              "                    weight\n",
              "PAY_1             0.285061\n",
              "PAY_2             0.162634\n",
              "PAY_3             0.116988\n",
              "PAY_4             0.063318\n",
              "PAY_5             0.044801\n",
              "PAY_AMT1          0.043970\n",
              "PAY_6             0.034956\n",
              "LIMIT_BAL         0.034343\n",
              "PAY_AMT2          0.027994\n",
              "BILL_AMT1         0.018866\n",
              "PAY_AMT3          0.018726\n",
              "PAY_AMT6          0.014351\n",
              "membership_group  0.014282\n",
              "BILL_AMT2         0.013207\n",
              "PAY_AMT4          0.012570\n",
              "PAY_AMT5          0.010799\n",
              "BILL_AMT3         0.010670\n",
              "BILL_AMT4         0.009963\n",
              "BILL_AMT5         0.009321\n",
              "PENDING_AMT2      0.009087\n",
              "BILL_AMT6         0.007564\n",
              "PENDING_AMT3      0.007488\n",
              "PENDING_AMT5      0.006542\n",
              "PENDING_AMT4      0.006514\n",
              "PENDING_AMT6      0.006145\n",
              "AGE               0.005521\n",
              "EDUCATION         0.001669\n",
              "MARRIAGE          0.001368\n",
              "SEX               0.001067\n",
              "kelompok_usia     0.000212"
            ],
            "text/html": [
              "\n",
              "  <div id=\"df-47c0d55e-f2ec-4a3d-847b-12aa593eb501\">\n",
              "    <div class=\"colab-df-container\">\n",
              "      <div>\n",
              "<style scoped>\n",
              "    .dataframe tbody tr th:only-of-type {\n",
              "        vertical-align: middle;\n",
              "    }\n",
              "\n",
              "    .dataframe tbody tr th {\n",
              "        vertical-align: top;\n",
              "    }\n",
              "\n",
              "    .dataframe thead th {\n",
              "        text-align: right;\n",
              "    }\n",
              "</style>\n",
              "<table border=\"1\" class=\"dataframe\">\n",
              "  <thead>\n",
              "    <tr style=\"text-align: right;\">\n",
              "      <th></th>\n",
              "      <th>weight</th>\n",
              "    </tr>\n",
              "  </thead>\n",
              "  <tbody>\n",
              "    <tr>\n",
              "      <th>PAY_1</th>\n",
              "      <td>0.285061</td>\n",
              "    </tr>\n",
              "    <tr>\n",
              "      <th>PAY_2</th>\n",
              "      <td>0.162634</td>\n",
              "    </tr>\n",
              "    <tr>\n",
              "      <th>PAY_3</th>\n",
              "      <td>0.116988</td>\n",
              "    </tr>\n",
              "    <tr>\n",
              "      <th>PAY_4</th>\n",
              "      <td>0.063318</td>\n",
              "    </tr>\n",
              "    <tr>\n",
              "      <th>PAY_5</th>\n",
              "      <td>0.044801</td>\n",
              "    </tr>\n",
              "    <tr>\n",
              "      <th>PAY_AMT1</th>\n",
              "      <td>0.043970</td>\n",
              "    </tr>\n",
              "    <tr>\n",
              "      <th>PAY_6</th>\n",
              "      <td>0.034956</td>\n",
              "    </tr>\n",
              "    <tr>\n",
              "      <th>LIMIT_BAL</th>\n",
              "      <td>0.034343</td>\n",
              "    </tr>\n",
              "    <tr>\n",
              "      <th>PAY_AMT2</th>\n",
              "      <td>0.027994</td>\n",
              "    </tr>\n",
              "    <tr>\n",
              "      <th>BILL_AMT1</th>\n",
              "      <td>0.018866</td>\n",
              "    </tr>\n",
              "    <tr>\n",
              "      <th>PAY_AMT3</th>\n",
              "      <td>0.018726</td>\n",
              "    </tr>\n",
              "    <tr>\n",
              "      <th>PAY_AMT6</th>\n",
              "      <td>0.014351</td>\n",
              "    </tr>\n",
              "    <tr>\n",
              "      <th>membership_group</th>\n",
              "      <td>0.014282</td>\n",
              "    </tr>\n",
              "    <tr>\n",
              "      <th>BILL_AMT2</th>\n",
              "      <td>0.013207</td>\n",
              "    </tr>\n",
              "    <tr>\n",
              "      <th>PAY_AMT4</th>\n",
              "      <td>0.012570</td>\n",
              "    </tr>\n",
              "    <tr>\n",
              "      <th>PAY_AMT5</th>\n",
              "      <td>0.010799</td>\n",
              "    </tr>\n",
              "    <tr>\n",
              "      <th>BILL_AMT3</th>\n",
              "      <td>0.010670</td>\n",
              "    </tr>\n",
              "    <tr>\n",
              "      <th>BILL_AMT4</th>\n",
              "      <td>0.009963</td>\n",
              "    </tr>\n",
              "    <tr>\n",
              "      <th>BILL_AMT5</th>\n",
              "      <td>0.009321</td>\n",
              "    </tr>\n",
              "    <tr>\n",
              "      <th>PENDING_AMT2</th>\n",
              "      <td>0.009087</td>\n",
              "    </tr>\n",
              "    <tr>\n",
              "      <th>BILL_AMT6</th>\n",
              "      <td>0.007564</td>\n",
              "    </tr>\n",
              "    <tr>\n",
              "      <th>PENDING_AMT3</th>\n",
              "      <td>0.007488</td>\n",
              "    </tr>\n",
              "    <tr>\n",
              "      <th>PENDING_AMT5</th>\n",
              "      <td>0.006542</td>\n",
              "    </tr>\n",
              "    <tr>\n",
              "      <th>PENDING_AMT4</th>\n",
              "      <td>0.006514</td>\n",
              "    </tr>\n",
              "    <tr>\n",
              "      <th>PENDING_AMT6</th>\n",
              "      <td>0.006145</td>\n",
              "    </tr>\n",
              "    <tr>\n",
              "      <th>AGE</th>\n",
              "      <td>0.005521</td>\n",
              "    </tr>\n",
              "    <tr>\n",
              "      <th>EDUCATION</th>\n",
              "      <td>0.001669</td>\n",
              "    </tr>\n",
              "    <tr>\n",
              "      <th>MARRIAGE</th>\n",
              "      <td>0.001368</td>\n",
              "    </tr>\n",
              "    <tr>\n",
              "      <th>SEX</th>\n",
              "      <td>0.001067</td>\n",
              "    </tr>\n",
              "    <tr>\n",
              "      <th>kelompok_usia</th>\n",
              "      <td>0.000212</td>\n",
              "    </tr>\n",
              "  </tbody>\n",
              "</table>\n",
              "</div>\n",
              "      <button class=\"colab-df-convert\" onclick=\"convertToInteractive('df-47c0d55e-f2ec-4a3d-847b-12aa593eb501')\"\n",
              "              title=\"Convert this dataframe to an interactive table.\"\n",
              "              style=\"display:none;\">\n",
              "        \n",
              "  <svg xmlns=\"http://www.w3.org/2000/svg\" height=\"24px\"viewBox=\"0 0 24 24\"\n",
              "       width=\"24px\">\n",
              "    <path d=\"M0 0h24v24H0V0z\" fill=\"none\"/>\n",
              "    <path d=\"M18.56 5.44l.94 2.06.94-2.06 2.06-.94-2.06-.94-.94-2.06-.94 2.06-2.06.94zm-11 1L8.5 8.5l.94-2.06 2.06-.94-2.06-.94L8.5 2.5l-.94 2.06-2.06.94zm10 10l.94 2.06.94-2.06 2.06-.94-2.06-.94-.94-2.06-.94 2.06-2.06.94z\"/><path d=\"M17.41 7.96l-1.37-1.37c-.4-.4-.92-.59-1.43-.59-.52 0-1.04.2-1.43.59L10.3 9.45l-7.72 7.72c-.78.78-.78 2.05 0 2.83L4 21.41c.39.39.9.59 1.41.59.51 0 1.02-.2 1.41-.59l7.78-7.78 2.81-2.81c.8-.78.8-2.07 0-2.86zM5.41 20L4 18.59l7.72-7.72 1.47 1.35L5.41 20z\"/>\n",
              "  </svg>\n",
              "      </button>\n",
              "      \n",
              "  <style>\n",
              "    .colab-df-container {\n",
              "      display:flex;\n",
              "      flex-wrap:wrap;\n",
              "      gap: 12px;\n",
              "    }\n",
              "\n",
              "    .colab-df-convert {\n",
              "      background-color: #E8F0FE;\n",
              "      border: none;\n",
              "      border-radius: 50%;\n",
              "      cursor: pointer;\n",
              "      display: none;\n",
              "      fill: #1967D2;\n",
              "      height: 32px;\n",
              "      padding: 0 0 0 0;\n",
              "      width: 32px;\n",
              "    }\n",
              "\n",
              "    .colab-df-convert:hover {\n",
              "      background-color: #E2EBFA;\n",
              "      box-shadow: 0px 1px 2px rgba(60, 64, 67, 0.3), 0px 1px 3px 1px rgba(60, 64, 67, 0.15);\n",
              "      fill: #174EA6;\n",
              "    }\n",
              "\n",
              "    [theme=dark] .colab-df-convert {\n",
              "      background-color: #3B4455;\n",
              "      fill: #D2E3FC;\n",
              "    }\n",
              "\n",
              "    [theme=dark] .colab-df-convert:hover {\n",
              "      background-color: #434B5C;\n",
              "      box-shadow: 0px 1px 3px 1px rgba(0, 0, 0, 0.15);\n",
              "      filter: drop-shadow(0px 1px 2px rgba(0, 0, 0, 0.3));\n",
              "      fill: #FFFFFF;\n",
              "    }\n",
              "  </style>\n",
              "\n",
              "      <script>\n",
              "        const buttonEl =\n",
              "          document.querySelector('#df-47c0d55e-f2ec-4a3d-847b-12aa593eb501 button.colab-df-convert');\n",
              "        buttonEl.style.display =\n",
              "          google.colab.kernel.accessAllowed ? 'block' : 'none';\n",
              "\n",
              "        async function convertToInteractive(key) {\n",
              "          const element = document.querySelector('#df-47c0d55e-f2ec-4a3d-847b-12aa593eb501');\n",
              "          const dataTable =\n",
              "            await google.colab.kernel.invokeFunction('convertToInteractive',\n",
              "                                                     [key], {});\n",
              "          if (!dataTable) return;\n",
              "\n",
              "          const docLinkHtml = 'Like what you see? Visit the ' +\n",
              "            '<a target=\"_blank\" href=https://colab.research.google.com/notebooks/data_table.ipynb>data table notebook</a>'\n",
              "            + ' to learn more about interactive tables.';\n",
              "          element.innerHTML = '';\n",
              "          dataTable['output_type'] = 'display_data';\n",
              "          await google.colab.output.renderOutput(dataTable, element);\n",
              "          const docLink = document.createElement('div');\n",
              "          docLink.innerHTML = docLinkHtml;\n",
              "          element.appendChild(docLink);\n",
              "        }\n",
              "      </script>\n",
              "    </div>\n",
              "  </div>\n",
              "  "
            ]
          },
          "metadata": {},
          "execution_count": 40
        }
      ]
    },
    {
      "cell_type": "markdown",
      "source": [
        "# **XGBOOST**"
      ],
      "metadata": {
        "id": "-N7hf758pAq4"
      }
    },
    {
      "cell_type": "code",
      "source": [
        "from xgboost import XGBClassifier, XGBRegressor\n",
        "xg = XGBClassifier(random_state=42)\n",
        "xg.fit(xtrain, ytrain.values.ravel())\n",
        "eval_classification(xg, xtrain, ytrain, xtest, ytest)"
      ],
      "metadata": {
        "colab": {
          "base_uri": "https://localhost:8080/"
        },
        "id": "KpYNBsHdpDrH",
        "outputId": "0b5ca415-c025-4c35-ad12-804ca841a00b"
      },
      "execution_count": null,
      "outputs": [
        {
          "output_type": "stream",
          "name": "stdout",
          "text": [
            "Accuracy (Test Set): 0.81\n",
            "Precision (Test Set): 0.65\n",
            "Recall (Test Set): 0.36\n",
            "F1-Score (Test Set): 0.46\n",
            "AUC (test-proba): 0.78\n",
            "AUC (train-proba): 0.82\n",
            "tp : 508\n",
            "fp  : 273\n",
            "fn  : 900\n",
            "tn  : 4619\n",
            "\n"
          ]
        }
      ]
    },
    {
      "cell_type": "code",
      "source": [
        "importance_features = pd.DataFrame(xg.feature_importances_ , index=xtrain.columns, columns=['weight']).sort_values(by=['weight'], ascending=False)\n",
        "plt.figure(figsize=(10,10))\n",
        "sns.barplot(y=importance_features.index, x=importance_features['weight'])\n",
        "plt.show()"
      ],
      "metadata": {
        "colab": {
          "base_uri": "https://localhost:8080/",
          "height": 606
        },
        "id": "yRpZLM0zpPVa",
        "outputId": "51bf3efc-6325-4dce-e593-02c307fef449"
      },
      "execution_count": null,
      "outputs": [
        {
          "output_type": "display_data",
          "data": {
            "text/plain": [
              "<Figure size 720x720 with 1 Axes>"
            ],
            "image/png": "[encoded data removed]"
          },
          "metadata": {
            "needs_background": "light"
          }
        }
      ]
    },
    {
      "cell_type": "markdown",
      "source": [
        "**Tuning Hyper-Parameter**"
      ],
      "metadata": {
        "id": "Oa750O_wsMYF"
      }
    },
    {
      "cell_type": "code",
      "source": [
        "hyperparameters = {\n",
        "                    'max_depth' : [int(x) for x in np.linspace(10, 110, num = 11)],\n",
        "                    'min_child_weight' : [int(x) for x in np.linspace(1, 20, num = 11)],\n",
        "                    'gamma' : [float(x) for x in np.linspace(0, 1, num = 11)],\n",
        "                    'tree_method' : ['auto', 'exact', 'approx', 'hist'],\n",
        "\n",
        "                    'colsample_bytree' : [float(x) for x in np.linspace(0, 1, num = 11)],\n",
        "                    'eta' : [float(x) for x in np.linspace(0, 1, num = 100)],\n",
        "\n",
        "                    'lambda' : [float(x) for x in np.linspace(0, 1, num = 11)],\n",
        "                    'alpha' : [float(x) for x in np.linspace(0, 1, num = 11)]\n",
        "                    }\n",
        "xg = XGBClassifier(random_state=42)\n",
        "xg_tuned = RandomizedSearchCV(xg, hyperparameters, cv=5, scoring = scoring, n_jobs=-1, random_state=111)\n",
        "xg_tuned.fit(xtrain,ytrain.values.ravel())\n",
        "eval_classification(xg_tuned, xtrain, ytrain, xtest, ytest)"
      ],
      "metadata": {
        "colab": {
          "base_uri": "https://localhost:8080/"
        },
        "id": "-fnbfGgPsP_E",
        "outputId": "1d1cb8f9-4abb-4c0e-a5cd-d5ae87ab70a1"
      },
      "execution_count": null,
      "outputs": [
        {
          "output_type": "stream",
          "name": "stdout",
          "text": [
            "Accuracy (Test Set): 0.81\n",
            "Precision (Test Set): 0.65\n",
            "Recall (Test Set): 0.36\n",
            "F1-Score (Test Set): 0.46\n",
            "AUC (test-proba): 0.77\n",
            "AUC (train-proba): 0.91\n",
            "tp : 507\n",
            "fp  : 279\n",
            "fn  : 901\n",
            "tn  : 4613\n",
            "\n"
          ]
        }
      ]
    },
    {
      "cell_type": "markdown",
      "source": [
        "# **AdaBoost**"
      ],
      "metadata": {
        "id": "jwAeNZNyXI4B"
      }
    },
    {
      "cell_type": "code",
      "source": [
        "from sklearn.ensemble import AdaBoostClassifier\n",
        "ab = AdaBoostClassifier(random_state=42)\n",
        "ab.fit(xtrain,ytrain.values.ravel())\n",
        "eval_classification(ab, xtrain, ytrain, xtest, ytest)"
      ],
      "metadata": {
        "id": "g6N4x9PyWwpX",
        "colab": {
          "base_uri": "https://localhost:8080/"
        },
        "outputId": "c2cbba72-b7f5-49fd-a5b9-e6584773925b"
      },
      "execution_count": null,
      "outputs": [
        {
          "output_type": "stream",
          "name": "stdout",
          "text": [
            "Accuracy (Test Set): 0.81\n",
            "Precision (Test Set): 0.67\n",
            "Recall (Test Set): 0.32\n",
            "F1-Score (Test Set): 0.44\n",
            "AUC (test-proba): 0.78\n",
            "AUC (train-proba): 0.79\n",
            "tp : 454\n",
            "fp  : 225\n",
            "fn  : 954\n",
            "tn  : 4667\n",
            "\n"
          ]
        }
      ]
    },
    {
      "cell_type": "code",
      "source": [
        "importance_features = pd.DataFrame(ab.feature_importances_ , index=xtrain.columns, columns=['weight']).sort_values(by=['weight'], ascending=False)\n",
        "plt.figure(figsize=(10,10))\n",
        "sns.barplot(y=importance_features.index, x=importance_features['weight'])\n",
        "plt.show()"
      ],
      "metadata": {
        "id": "B4cGRS7iXRkB",
        "colab": {
          "base_uri": "https://localhost:8080/",
          "height": 606
        },
        "outputId": "511ec12f-401d-4737-ce7f-d16b2e1fd0ee"
      },
      "execution_count": null,
      "outputs": [
        {
          "output_type": "display_data",
          "data": {
            "text/plain": [
              "<Figure size 720x720 with 1 Axes>"
            ],
            "image/png": "[encoded data removed]"
          },
          "metadata": {
            "needs_background": "light"
          }
        }
      ]
    },
    {
      "cell_type": "code",
      "source": [
        "# hyperparameters = dict(n_estimators = [int(x) for x in np.linspace(start = 50, stop = 2000, num = 2000)], # Jumlah iterasi\n",
        "#                        learning_rate = [float(x) for x in np.linspace(start = 0.001, stop = 0.1, num = 200)],  \n",
        "#                        algorithm = ['SAMME', 'SAMME.R']\n",
        "#                       )\n",
        "# ab = AdaBoostClassifier(random_state=42)\n",
        "# ab_tuned = RandomizedSearchCV(ab, hyperparameters, cv=5, scoring = scoring, n_jobs=-1, random_state=111)\n",
        "# ab_tuned.fit(xtrain,ytrain.values.ravel())\n",
        "# eval_classification(ab_tuned, xtrain, ytrain, xtest, ytest)"
      ],
      "metadata": {
        "id": "fRKibcvyieDw"
      },
      "execution_count": null,
      "outputs": []
    },
    {
      "cell_type": "markdown",
      "source": [
        "# **Kesimpulan Stage Modeling**"
      ],
      "metadata": {
        "id": "FN55Qz7DKAnh"
      }
    },
    {
      "cell_type": "markdown",
      "source": [
        "> **Model Random Forest memiliki performa yang paling baik dari pada model yang lainnya dengan mempertimbangkan metric Precision, Recall**"
      ],
      "metadata": {
        "id": "AxtjvL9RKJBq"
      }
    },
    {
      "cell_type": "markdown",
      "source": [
        "# **Apply the model to predicting Customers who default next month**"
      ],
      "metadata": {
        "id": "-6My5gUAKkjY"
      }
    },
    {
      "cell_type": "code",
      "source": [
        "best_features = ['PAY_1', 'PAY_2', 'PAY_3', 'PAY_4', 'PAY_5', 'PAY_AMT1', 'PAY_6', 'LIMIT_BAL', 'PAY_AMT2', 'BILL_AMT1', 'PAY_AMT3']\n",
        "X_train_final, X_test_final = xtrain[best_features].copy(), xtest[best_features].copy()\n",
        "rf = RandomForestClassifier(**rf_best_hyperparams)\n",
        "rf_model = rf.fit(X_train_final, ytrain.values.ravel())\n",
        "ypredict = rf_model.predict(X_test_final)\n",
        "eval_classification(rf_model, X_train_final, ytrain, X_test_final, ytest)"
      ],
      "metadata": {
        "id": "l_gEIEhiKYDr",
        "colab": {
          "base_uri": "https://localhost:8080/"
        },
        "outputId": "ac312776-364e-418f-e90c-eb6321708ddd"
      },
      "execution_count": null,
      "outputs": [
        {
          "output_type": "stream",
          "name": "stdout",
          "text": [
            "Accuracy (Test Set): 0.82\n",
            "Precision (Test Set): 0.66\n",
            "Recall (Test Set): 0.37\n",
            "F1-Score (Test Set): 0.47\n",
            "AUC (test-proba): 0.78\n",
            "AUC (train-proba): 0.81\n",
            "tp : 514\n",
            "fp  : 267\n",
            "fn  : 894\n",
            "tn  : 4625\n",
            "\n"
          ]
        }
      ]
    },
    {
      "cell_type": "markdown",
      "source": [
        "## **Adjust PAY_STATUS**"
      ],
      "metadata": {
        "id": "PzLaRRHOhKzM"
      }
    },
    {
      "cell_type": "code",
      "source": [
        "adjusted_X_test = X_test_final.copy()\n",
        "adjusted_X_test.index = [ i for i in range(len(ypredict))]\n",
        "\n",
        "adjusted_actual_y = ytest.copy()\n",
        "adjusted_actual_y.index = [ i for i in range(len(ypredict))]\n",
        "\n",
        "actual_y = ytest.copy()\n",
        "actual_y.index = [ i for i in range(len(ypredict))]"
      ],
      "metadata": {
        "id": "g_5sVBQwRZ3O"
      },
      "execution_count": null,
      "outputs": []
    },
    {
      "cell_type": "markdown",
      "source": [
        "**pada Customer yang terprediksi Default dan telah mendapatkan Treatment Status Pembayaran terakhirnya (PAY_1) diubah menjadi 0  karena diasumsikan semua Customer yang telah diberikan Treatment menjadi tidak default**"
      ],
      "metadata": {
        "id": "LoI2GY_RnZLt"
      }
    },
    {
      "cell_type": "code",
      "source": [
        "def adjusting_X(temp, y_predict):\n",
        "  for i in range(len(temp)):\n",
        "    if (y_predict[i] == 1) and (temp.loc[i, ['PAY_1']].values >= 1):\n",
        "      temp.loc[i, ['PAY_1']] = -2\n",
        "    elif (y_predict[i] == 1):\n",
        "      temp.loc[i, ['PAY_1']] = temp.loc[i, ['PAY_1']] - 1\n",
        "      \n",
        "adjusting_X(adjusted_X_test, y_predict)"
      ],
      "metadata": {
        "id": "bsXrONsaGhdO"
      },
      "execution_count": null,
      "outputs": []
    },
    {
      "cell_type": "markdown",
      "source": [
        "**pada Customer yang terprediksi Default dan telah mendapatkan Treatment Target Labelnya (y) diubah menjadi 0  karena diasumsikan semua Customer yang telah diberikan Treatment menjadi tidak default**"
      ],
      "metadata": {
        "id": "fNQ4vH-_n4i6"
      }
    },
    {
      "cell_type": "code",
      "source": [
        "def adjusting_y(y_actual, y_predict):\n",
        "  for i in range(len(y_actual)):\n",
        "    if (y_predict[i] == 1):\n",
        "      y_actual.loc[i, ['default_payment_next_month']] = 0\n",
        "\n",
        "adjusting_y(adjusted_actual_y, ypredict)"
      ],
      "metadata": {
        "id": "vFmJkPv1eI9g"
      },
      "execution_count": null,
      "outputs": []
    },
    {
      "cell_type": "markdown",
      "source": [
        "# **Default Rate Sebelum dan Setelah Treatment**"
      ],
      "metadata": {
        "id": "Z5luQHpGmwqc"
      }
    },
    {
      "cell_type": "code",
      "source": [
        "print('Before : {}\\nAfter  : {}'.format(actual_y.mean()[0]*100, adjusted_actual_y.mean()[0]*100))"
      ],
      "metadata": {
        "id": "cbouTCsBX6zA",
        "colab": {
          "base_uri": "https://localhost:8080/"
        },
        "outputId": "5d72333c-167a-4754-f2fb-ab01d5259ed9"
      },
      "execution_count": null,
      "outputs": [
        {
          "output_type": "stream",
          "name": "stdout",
          "text": [
            "Before : 22.349206349206348\n",
            "After  : 14.19047619047619\n"
          ]
        }
      ]
    },
    {
      "cell_type": "code",
      "source": [
        "before = round(actual_y.value_counts(normalize=True)*100,2)\n",
        "after = round(adjusted_actual_y.value_counts(normalize=True)*100,2)\n",
        "defaultrate = pd.DataFrame({ 'BeforeAfter' : ['Before','Before', 'After', 'After'], 'Default' : ['Non Default', 'Default', 'Non Default', 'Default'], 'Percentage' : [before[0], before[1], after[0], after[1]]})\n",
        "# defaultrate['default'].apply(lambda x: 'Yes' if x==1 else 'No')\n",
        "defaultrate\n"
      ],
      "metadata": {
        "id": "yFTmxnDtEGKk",
        "colab": {
          "base_uri": "https://localhost:8080/",
          "height": 175
        },
        "outputId": "21534015-03ea-4e20-c5a6-7517e0a64217"
      },
      "execution_count": null,
      "outputs": [
        {
          "output_type": "execute_result",
          "data": {
            "text/plain": [
              "  BeforeAfter      Default  Percentage\n",
              "0      Before  Non Default       77.65\n",
              "1      Before      Default       22.35\n",
              "2       After  Non Default       85.81\n",
              "3       After      Default       14.19"
            ],
            "text/html": [
              "\n",
              "  <div id=\"df-b3e4a2d5-e1fd-4406-9ae6-c6997dc314a0\">\n",
              "    <div class=\"colab-df-container\">\n",
              "      <div>\n",
              "<style scoped>\n",
              "    .dataframe tbody tr th:only-of-type {\n",
              "        vertical-align: middle;\n",
              "    }\n",
              "\n",
              "    .dataframe tbody tr th {\n",
              "        vertical-align: top;\n",
              "    }\n",
              "\n",
              "    .dataframe thead th {\n",
              "        text-align: right;\n",
              "    }\n",
              "</style>\n",
              "<table border=\"1\" class=\"dataframe\">\n",
              "  <thead>\n",
              "    <tr style=\"text-align: right;\">\n",
              "      <th></th>\n",
              "      <th>BeforeAfter</th>\n",
              "      <th>Default</th>\n",
              "      <th>Percentage</th>\n",
              "    </tr>\n",
              "  </thead>\n",
              "  <tbody>\n",
              "    <tr>\n",
              "      <th>0</th>\n",
              "      <td>Before</td>\n",
              "      <td>Non Default</td>\n",
              "      <td>77.65</td>\n",
              "    </tr>\n",
              "    <tr>\n",
              "      <th>1</th>\n",
              "      <td>Before</td>\n",
              "      <td>Default</td>\n",
              "      <td>22.35</td>\n",
              "    </tr>\n",
              "    <tr>\n",
              "      <th>2</th>\n",
              "      <td>After</td>\n",
              "      <td>Non Default</td>\n",
              "      <td>85.81</td>\n",
              "    </tr>\n",
              "    <tr>\n",
              "      <th>3</th>\n",
              "      <td>After</td>\n",
              "      <td>Default</td>\n",
              "      <td>14.19</td>\n",
              "    </tr>\n",
              "  </tbody>\n",
              "</table>\n",
              "</div>\n",
              "      <button class=\"colab-df-convert\" onclick=\"convertToInteractive('df-b3e4a2d5-e1fd-4406-9ae6-c6997dc314a0')\"\n",
              "              title=\"Convert this dataframe to an interactive table.\"\n",
              "              style=\"display:none;\">\n",
              "        \n",
              "  <svg xmlns=\"http://www.w3.org/2000/svg\" height=\"24px\"viewBox=\"0 0 24 24\"\n",
              "       width=\"24px\">\n",
              "    <path d=\"M0 0h24v24H0V0z\" fill=\"none\"/>\n",
              "    <path d=\"M18.56 5.44l.94 2.06.94-2.06 2.06-.94-2.06-.94-.94-2.06-.94 2.06-2.06.94zm-11 1L8.5 8.5l.94-2.06 2.06-.94-2.06-.94L8.5 2.5l-.94 2.06-2.06.94zm10 10l.94 2.06.94-2.06 2.06-.94-2.06-.94-.94-2.06-.94 2.06-2.06.94z\"/><path d=\"M17.41 7.96l-1.37-1.37c-.4-.4-.92-.59-1.43-.59-.52 0-1.04.2-1.43.59L10.3 9.45l-7.72 7.72c-.78.78-.78 2.05 0 2.83L4 21.41c.39.39.9.59 1.41.59.51 0 1.02-.2 1.41-.59l7.78-7.78 2.81-2.81c.8-.78.8-2.07 0-2.86zM5.41 20L4 18.59l7.72-7.72 1.47 1.35L5.41 20z\"/>\n",
              "  </svg>\n",
              "      </button>\n",
              "      \n",
              "  <style>\n",
              "    .colab-df-container {\n",
              "      display:flex;\n",
              "      flex-wrap:wrap;\n",
              "      gap: 12px;\n",
              "    }\n",
              "\n",
              "    .colab-df-convert {\n",
              "      background-color: #E8F0FE;\n",
              "      border: none;\n",
              "      border-radius: 50%;\n",
              "      cursor: pointer;\n",
              "      display: none;\n",
              "      fill: #1967D2;\n",
              "      height: 32px;\n",
              "      padding: 0 0 0 0;\n",
              "      width: 32px;\n",
              "    }\n",
              "\n",
              "    .colab-df-convert:hover {\n",
              "      background-color: #E2EBFA;\n",
              "      box-shadow: 0px 1px 2px rgba(60, 64, 67, 0.3), 0px 1px 3px 1px rgba(60, 64, 67, 0.15);\n",
              "      fill: #174EA6;\n",
              "    }\n",
              "\n",
              "    [theme=dark] .colab-df-convert {\n",
              "      background-color: #3B4455;\n",
              "      fill: #D2E3FC;\n",
              "    }\n",
              "\n",
              "    [theme=dark] .colab-df-convert:hover {\n",
              "      background-color: #434B5C;\n",
              "      box-shadow: 0px 1px 3px 1px rgba(0, 0, 0, 0.15);\n",
              "      filter: drop-shadow(0px 1px 2px rgba(0, 0, 0, 0.3));\n",
              "      fill: #FFFFFF;\n",
              "    }\n",
              "  </style>\n",
              "\n",
              "      <script>\n",
              "        const buttonEl =\n",
              "          document.querySelector('#df-b3e4a2d5-e1fd-4406-9ae6-c6997dc314a0 button.colab-df-convert');\n",
              "        buttonEl.style.display =\n",
              "          google.colab.kernel.accessAllowed ? 'block' : 'none';\n",
              "\n",
              "        async function convertToInteractive(key) {\n",
              "          const element = document.querySelector('#df-b3e4a2d5-e1fd-4406-9ae6-c6997dc314a0');\n",
              "          const dataTable =\n",
              "            await google.colab.kernel.invokeFunction('convertToInteractive',\n",
              "                                                     [key], {});\n",
              "          if (!dataTable) return;\n",
              "\n",
              "          const docLinkHtml = 'Like what you see? Visit the ' +\n",
              "            '<a target=\"_blank\" href=https://colab.research.google.com/notebooks/data_table.ipynb>data table notebook</a>'\n",
              "            + ' to learn more about interactive tables.';\n",
              "          element.innerHTML = '';\n",
              "          dataTable['output_type'] = 'display_data';\n",
              "          await google.colab.output.renderOutput(dataTable, element);\n",
              "          const docLink = document.createElement('div');\n",
              "          docLink.innerHTML = docLinkHtml;\n",
              "          element.appendChild(docLink);\n",
              "        }\n",
              "      </script>\n",
              "    </div>\n",
              "  </div>\n",
              "  "
            ]
          },
          "metadata": {},
          "execution_count": 178
        }
      ]
    },
    {
      "cell_type": "code",
      "source": [
        "plt.figure(figsize=(12,10))\n",
        "sns.barplot(x='BeforeAfter', y='Percentage', hue='Default',data=defaultrate)\n",
        "for i in range(2):\n",
        "  plt.text(x=-0.30+i, y=1+defaultrate[(defaultrate.Default=='Non Default')].Percentage.iloc[i], s=str(defaultrate[(defaultrate.Default=='Non Default')].Percentage.iloc[i])+'%', fontsize=15, fontweight='semibold')\n",
        "for i in range(2):\n",
        "  plt.text(x=0.10+i, y=1+defaultrate[(defaultrate.Default=='Default')].Percentage.iloc[i], s=str(defaultrate[(defaultrate.Default=='Default')].Percentage.iloc[i])+'%', fontsize=15, fontweight='semibold')\n",
        "plt.title('Persentase Customer Default Sebelum dan Setelah Treatment', fontsize=15, pad=20, fontweight='semibold')\n",
        "plt.ylim(0,100)\n",
        "plt.xlabel('Before and After Treatment', fontsize=15, fontweight='semibold')\n",
        "plt.ylabel('Persentase Customer', fontsize=15, fontweight='semibold')\n",
        "plt.show()"
      ],
      "metadata": {
        "colab": {
          "base_uri": "https://localhost:8080/",
          "height": 642
        },
        "id": "9nwPu-ygdcor",
        "outputId": "ea4a6314-9950-4b45-c8f5-22860ca258a6"
      },
      "execution_count": null,
      "outputs": [
        {
          "output_type": "display_data",
          "data": {
            "text/plain": [
              "<Figure size 864x720 with 1 Axes>"
            ],
            "image/png": "[encoded data removed]"
          },
          "metadata": {
            "needs_background": "light"
          }
        }
      ]
    },
    {
      "cell_type": "markdown",
      "source": [
        "### **Tanpa Adjust**"
      ],
      "metadata": {
        "id": "sOZJXlgJVkP2"
      }
    },
    {
      "cell_type": "code",
      "source": [
        "eval_simulated_data(rf_model, X_test_final, ytest)"
      ],
      "metadata": {
        "id": "slPYikiiT5RK",
        "colab": {
          "base_uri": "https://localhost:8080/"
        },
        "outputId": "78b1d0ce-44e8-4c3d-d050-3f4c4d21c12a"
      },
      "execution_count": null,
      "outputs": [
        {
          "output_type": "stream",
          "name": "stdout",
          "text": [
            "Accuracy (Test Set): 0.82\n",
            "Precision (Test Set): 0.66\n",
            "Recall (Test Set): 0.37\n",
            "F1-Score (Test Set): 0.47\n",
            "AUC (test-proba): 0.78\n",
            "\n",
            "tp : 514\n",
            "fp  : 267\n",
            "fn  : 894\n",
            "tn  : 4625\n"
          ]
        }
      ]
    },
    {
      "cell_type": "markdown",
      "source": [
        "**Adjust Threshold**"
      ],
      "metadata": {
        "id": "YbQ-0_7UOwJq"
      }
    },
    {
      "cell_type": "code",
      "source": [
        "eval_simulated_data(rf_model, X_test_final, ytest, threshold=0.7)"
      ],
      "metadata": {
        "id": "g7XHYXQjHV-U",
        "colab": {
          "base_uri": "https://localhost:8080/"
        },
        "outputId": "46d693c5-2ea7-4f19-ab7e-4bca4bea10fa"
      },
      "execution_count": null,
      "outputs": [
        {
          "output_type": "stream",
          "name": "stdout",
          "text": [
            "Accuracy (Test Set): 0.79\n",
            "Precision (Test Set): 0.79\n",
            "Recall (Test Set): 0.08\n",
            "F1-Score (Test Set): 0.15\n",
            "AUC (test-proba): 0.78\n",
            "\n",
            "tp : 116\n",
            "fp  : 31\n",
            "fn  : 1292\n",
            "tn  : 4861\n"
          ]
        }
      ]
    },
    {
      "cell_type": "markdown",
      "source": [
        "### **Adjusted X_test**"
      ],
      "metadata": {
        "id": "QG6yrokdVMY9"
      }
    },
    {
      "cell_type": "code",
      "source": [
        "eval_simulated_data(rf_model, adjusted_X_test, actual_y)"
      ],
      "metadata": {
        "id": "huEa5dZqY2yG",
        "colab": {
          "base_uri": "https://localhost:8080/"
        },
        "outputId": "8c40d3b8-db9c-4080-d181-6d6b6d17565a"
      },
      "execution_count": null,
      "outputs": [
        {
          "output_type": "stream",
          "name": "stdout",
          "text": [
            "Accuracy (Test Set): 0.80\n",
            "Precision (Test Set): 0.65\n",
            "Recall (Test Set): 0.19\n",
            "F1-Score (Test Set): 0.29\n",
            "AUC (test-proba): 0.76\n",
            "\n",
            "tp : 261\n",
            "fp  : 143\n",
            "fn  : 1147\n",
            "tn  : 4749\n"
          ]
        }
      ]
    },
    {
      "cell_type": "markdown",
      "source": [
        "**Adjust Threshold**"
      ],
      "metadata": {
        "id": "hp4XGDSYPE2Q"
      }
    },
    {
      "cell_type": "code",
      "source": [
        "eval_simulated_data(rf_model, adjusted_X_test, actual_y, threshold=0.55)"
      ],
      "metadata": {
        "id": "GqGlKVkJK9Q3",
        "colab": {
          "base_uri": "https://localhost:8080/"
        },
        "outputId": "1ef737eb-25e4-4f84-9a82-faa2e92dd08f"
      },
      "execution_count": null,
      "outputs": [
        {
          "output_type": "stream",
          "name": "stdout",
          "text": [
            "Accuracy (Test Set): 0.78\n",
            "Precision (Test Set): 0.62\n",
            "Recall (Test Set): 0.08\n",
            "F1-Score (Test Set): 0.14\n",
            "AUC (test-proba): 0.76\n",
            "\n",
            "tp : 107\n",
            "fp  : 66\n",
            "fn  : 1301\n",
            "tn  : 4826\n"
          ]
        }
      ]
    },
    {
      "cell_type": "markdown",
      "source": [
        "### **Adjust X_test, Adjust actual_y**"
      ],
      "metadata": {
        "id": "oghgeRf9Nmka"
      }
    },
    {
      "cell_type": "code",
      "source": [
        "eval_simulated_data(rf_model, adjusted_X_test, adjusted_actual_y)"
      ],
      "metadata": {
        "id": "p4p7kjU2Z5io",
        "colab": {
          "base_uri": "https://localhost:8080/"
        },
        "outputId": "0ae5ddea-2af5-4353-c423-fb4edc825cfb"
      },
      "execution_count": null,
      "outputs": [
        {
          "output_type": "stream",
          "name": "stdout",
          "text": [
            "Accuracy (Test Set): 0.79\n",
            "Precision (Test Set): 0.00\n",
            "Recall (Test Set): 0.00\n",
            "F1-Score (Test Set): 0.00\n",
            "AUC (test-proba): 0.62\n",
            "\n",
            "tp : 0\n",
            "fp  : 404\n",
            "fn  : 894\n",
            "tn  : 5002\n"
          ]
        }
      ]
    },
    {
      "cell_type": "markdown",
      "source": [
        "**Adjust Threshold**"
      ],
      "metadata": {
        "id": "dmSrA3McPUAj"
      }
    },
    {
      "cell_type": "code",
      "source": [
        "eval_simulated_data(rf_model, adjusted_X_test, adjusted_actual_y, threshold=0.6)"
      ],
      "metadata": {
        "id": "1-rR1NnNLAAN",
        "colab": {
          "base_uri": "https://localhost:8080/"
        },
        "outputId": "2dc3f24c-fb69-4aaf-e6f4-619d4d154ac4"
      },
      "execution_count": null,
      "outputs": [
        {
          "output_type": "stream",
          "name": "stdout",
          "text": [
            "Accuracy (Test Set): 0.86\n",
            "Precision (Test Set): 0.00\n",
            "Recall (Test Set): 0.00\n",
            "F1-Score (Test Set): 0.00\n",
            "AUC (test-proba): 0.62\n",
            "\n",
            "tp : 0\n",
            "fp  : 3\n",
            "fn  : 894\n",
            "tn  : 5403\n"
          ]
        }
      ]
    }
  ]
}